{
 "cells": [
  {
   "cell_type": "markdown",
   "metadata": {},
   "source": [
    "# Faim dans le monde : +9 millions de morts par an\n",
    "\n",
    "*Etude de santé publique FAO - Projet 3 - Nalron (septembre 2019)* /\n",
    "*ENSAE-ENSAI Formation Continue*"
   ]
  },
  {
   "cell_type": "markdown",
   "metadata": {},
   "source": [
    "---"
   ]
  },
  {
   "cell_type": "markdown",
   "metadata": {},
   "source": [
    "## Intégration des données dans une base de données relationnelle\n"
   ]
  },
  {
   "cell_type": "markdown",
   "metadata": {},
   "source": [
    "La base de données contiendra différentes tables, 4 exactement :\n",
    "**population, dispo_alim, equilibre_prod, sous_nutrition**\n"
   ]
  },
  {
   "cell_type": "code",
   "execution_count": 132,
   "metadata": {},
   "outputs": [],
   "source": [
    "import sqlite3\n",
    "conn = sqlite3.connect('p3_data/base_fao.db')\n",
    "c = conn.cursor()"
   ]
  },
  {
   "cell_type": "markdown",
   "metadata": {},
   "source": [
    "### 15.  Choix d'une clé primaire pertinente, en anglais primary key (PK), pour la table population"
   ]
  },
  {
   "cell_type": "markdown",
   "metadata": {},
   "source": [
    "La table appelée population, contient la population de chaque pays pour l'année 2013. Dans l'extraction des données du site de la FAO, les autres années après 2013 n'étant pas disponibles, la table sera basée uniquement sur 2013.     La table contient 4 colonnes : pays, code_pays, annee, population."
   ]
  },
  {
   "cell_type": "code",
   "execution_count": 133,
   "metadata": {},
   "outputs": [],
   "source": [
    "#Préparation de la table population à partir du dataframe (population)\n",
    "df_pop = population\n",
    "df_pop = df_pop[['Code Pays', 'Pays', 'Année', 'Valeur']].sort_values(by='Code Pays')\n",
    "df_pop = df_pop.rename(columns={'Code Pays': 'code_pays', 'Pays': 'pays', 'Année': 'annee', 'Valeur': 'population'})"
   ]
  },
  {
   "cell_type": "markdown",
   "metadata": {},
   "source": [
    "*La clé primaire retenue pour la table population sera le **code pays**.*"
   ]
  },
  {
   "cell_type": "code",
   "execution_count": 134,
   "metadata": {},
   "outputs": [],
   "source": [
    "#Création de la table population\n",
    "c.execute('''CREATE TABLE population(\n",
    "           code_pays INTEGER PRIMARY KEY,\n",
    "           pays TEXT,\n",
    "           annee INTEGER,\n",
    "           population REAL)''')\n",
    "conn.commit()"
   ]
  },
  {
   "cell_type": "code",
   "execution_count": 135,
   "metadata": {},
   "outputs": [],
   "source": [
    "df_pop.to_sql('population', conn, if_exists='append', index=False)"
   ]
  },
  {
   "cell_type": "markdown",
   "metadata": {},
   "source": [
    "### 16. Choix d'une clé primaire pertinente pour la table dispo_alim"
   ]
  },
  {
   "cell_type": "markdown",
   "metadata": {},
   "source": [
    "La table appelée dispo_alim contient pour chaque pays, pour chaque produit, sur l'année 2013, les informations suivantes:\n",
    "- la nature du produit (deux valeurs possibles“animal” ou “végétal”)\n",
    "- disponibilité alimentaire en tonnes\n",
    "- disponibilité alimentaire en Kcal/personne/jour\n",
    "- disponibilité alimentaire de protéines en g/personne/jour\n",
    "- disponibilité alimentaire de matières grasses en g/personne/jour\n",
    "\n",
    "La table contient ces colonnes : pays, code_pays, année, produit, code_produit, origin, dispo_alim_tonnes, dispo_alim_kcal_p_j, dispo_prot, dispo_mat_gr ."
   ]
  },
  {
   "cell_type": "code",
   "execution_count": 136,
   "metadata": {},
   "outputs": [],
   "source": [
    "#Préparation de la table population à partir du dataframe (df1) sur les bilans alimentaires de la FAO\n",
    "dispo_alim = df1\n",
    "dispo_alim['Disponibilité alimentaire en quantité tonnes'] = dispo_alim['Disponibilité alimentaire en quantité (Kg/an)'] / 1000\n",
    "dispo_alim = dispo_alim.rename(columns={'Pays': 'pays', 'Code Pays': 'code_pays', 'Année': 'année', 'Produit': 'produit', 'Code Produit': 'code_produit', 'Origine': 'origin', 'Disponibilité alimentaire en quantité tonnes': 'dispo_alim_tonnes', 'Disponibilité alimentaire (Kcal/personne/jour)': 'dispo_alim_kcal_p_j', 'Disponibilité de protéines en quantité (Kg/an)': 'dispo_prot', 'Disponibilité de matière grasse en quantité (g/personne/jour)': 'dispo_mat_gr'})\n",
    "dispo_alim = dispo_alim[['pays', 'code_pays', 'année', 'produit', 'code_produit', 'origin', 'dispo_alim_tonnes', 'dispo_alim_kcal_p_j', 'dispo_prot', 'dispo_mat_gr']]"
   ]
  },
  {
   "cell_type": "markdown",
   "metadata": {},
   "source": [
    "*La clé primaire de la table dispo_alim sera **id (clé artificielle)**.*\n",
    "\n",
    "En cas d'évolution future, la création de l'id [PK] est une solution qui restera stable"
   ]
  },
  {
   "cell_type": "code",
   "execution_count": 137,
   "metadata": {},
   "outputs": [],
   "source": [
    "#Création de la table dispo_alim\n",
    "c.execute('''CREATE TABLE dispo_alim(\n",
    "            id INTEGER primary key,\n",
    "            code_pays INTEGER,\n",
    "            pays TEXT,\n",
    "            année INTEGER,\n",
    "            produit TEXT,\n",
    "            code_produit INTEGER,\n",
    "            origin TEXT,\n",
    "            dispo_alim_tonnes REAL,\n",
    "            dispo_alim_kcal_p_j REAL,\n",
    "            dispo_prot REAL,\n",
    "            dispo_mat_gr REAL)''')\n",
    "conn.commit()"
   ]
  },
  {
   "cell_type": "code",
   "execution_count": 138,
   "metadata": {},
   "outputs": [],
   "source": [
    "dispo_alim.to_sql('dispo_alim', conn, if_exists='append', index=False)"
   ]
  },
  {
   "cell_type": "markdown",
   "metadata": {},
   "source": [
    "### 17. Choix d'une clé primaire pertinente pour la table equilibre_prod "
   ]
  },
  {
   "cell_type": "markdown",
   "metadata": {},
   "source": [
    "La table appelée equilibre_prod contient pour chaque pays, pour chaque produit, et pour l'année disponible 2013, les quantités suivantes :\n",
    "- disponibilité intérieure\n",
    "- aliments pour animaux\n",
    "- semences\n",
    "- pertes\n",
    "- transformés\n",
    "- nourriture\n",
    "- autres utilisations\n",
    "\n",
    "Elle contient ces colonnes : pays, code_pays, année, produit, code_produit, dispo_int, alim_ani, semences, pertes, transfo, nourriture, autres_utilisations."
   ]
  },
  {
   "cell_type": "code",
   "execution_count": 139,
   "metadata": {},
   "outputs": [],
   "source": [
    "#Préparation de la table population à partir du dataframe (df1) sur les bilans alimentaires de la FAO\n",
    "equilibre_prod = df1\n",
    "equilibre_prod = equilibre_prod.rename(columns={'Pays': 'pays', 'Code Pays': 'code_pays', 'Année': 'année', 'Produit': 'produit', 'Code Produit': 'code_produit', 'Disponibilité intérieure': 'dispo_int', 'Aliments pour animaux': 'alim_ani', 'Semences': 'semences', 'Pertes': 'pertes', 'Nourriture': 'nourriture', 'Autres Utilisations': 'autres_utilisations'})\n",
    "equilibre_prod = equilibre_prod[['pays', 'code_pays', 'année', 'produit', 'code_produit', 'dispo_int', 'alim_ani',  'semences', 'pertes', 'nourriture', 'autres_utilisations']]\n"
   ]
  },
  {
   "cell_type": "markdown",
   "metadata": {},
   "source": [
    "*La clé primaire de la table dispo_alim sera **id (clé artificielle)**.*\n",
    "\n",
    "En cas d'évolution future, la création de l'id [PK] est une solution qui restera stable"
   ]
  },
  {
   "cell_type": "code",
   "execution_count": 140,
   "metadata": {},
   "outputs": [],
   "source": [
    "#Création de la table equilibre_prod\n",
    "c.execute(\"\"\"CREATE TABLE equilibre_prod(\n",
    "            id INTEGER PRIMARY KEY,\n",
    "            pays TEXT, \n",
    "            code_pays INTEGER, \n",
    "            année INTEGER, \n",
    "            produit TEXT, \n",
    "            code_produit INTEGER, \n",
    "            dispo_int REAL, \n",
    "            alim_ani REAL, \n",
    "            semences REAL, \n",
    "            pertes REAL, \n",
    "            nourriture REAL, \n",
    "            autres_utilisations REAL)\"\"\")\n",
    "conn.commit()"
   ]
  },
  {
   "cell_type": "code",
   "execution_count": 141,
   "metadata": {},
   "outputs": [],
   "source": [
    "equilibre_prod.to_sql('equilibre_prod', conn, if_exists='append', index=False)"
   ]
  },
  {
   "cell_type": "markdown",
   "metadata": {},
   "source": [
    "### 18. Choix d'une clé primaire pertinente pour la table sous_nutrition"
   ]
  },
  {
   "cell_type": "markdown",
   "metadata": {},
   "source": [
    "La table appelée sous_nutrition, contient le nombre de personnes en sous-alimentation pour chaque pays et pour chaque année comprise entre 2012 à 2018. Elle contient 4 colonnes : pays, code_pays, année, nb_personnes."
   ]
  },
  {
   "cell_type": "code",
   "execution_count": 142,
   "metadata": {},
   "outputs": [],
   "source": [
    "#Préparation de la table population à partir du dataframe (df_sousnut) sur la sécurité alimentaire de la FAO\n",
    "sousnut = df_sousnut\n",
    "sousnut = sousnut.rename(columns={'Zone': 'pays', 'Code zone': 'code_pays', 'Année': 'année', 'Valeur': 'nb_personnes'})\n",
    "sousnut = sousnut[['pays', 'code_pays', 'année', 'nb_personnes']]"
   ]
  },
  {
   "cell_type": "markdown",
   "metadata": {},
   "source": [
    "*La clé primaire retenue pour la table sous_nutrition sera le **code pays**.*"
   ]
  },
  {
   "cell_type": "code",
   "execution_count": 143,
   "metadata": {},
   "outputs": [],
   "source": [
    "#Création de la table sous_nutrition\n",
    "c.execute(\"\"\"CREATE TABLE sous_nutrition(\n",
    "            pays TEXT, code_pays INTEGER, année TEXT, nb_personnes REAL, CONSTRAINT pays_annee PRIMARY KEY (pays, année))\"\"\")\n",
    "\n",
    "#c.execute(\"\"\"ALTER TABLE sous_nutrition(ADD CONSTRAINT PRIMARY KEY (pays, année))\"\"\")\n",
    "conn.commit()"
   ]
  },
  {
   "cell_type": "code",
   "execution_count": 144,
   "metadata": {},
   "outputs": [],
   "source": [
    "sousnut.to_sql('sous_nutrition', conn, if_exists='append', index=False)"
   ]
  },
  {
   "cell_type": "markdown",
   "metadata": {},
   "source": [
    "### 19. Les requêtes SQL permettant de connaître…"
   ]
  },
  {
   "cell_type": "markdown",
   "metadata": {},
   "source": [
    "#### 19.1 Les 10 pays ayant le plus haut ratio disponibilité alimentaire/habitant en termes de protéines (en kg) par habitant, puis en termes de kcal par habitant"
   ]
  },
  {
   "cell_type": "code",
   "execution_count": 145,
   "metadata": {},
   "outputs": [
    {
     "data": {
      "text/plain": [
       "[('Chine, continentale', 49587.02, 3112.0),\n",
       " ('Inde', 27380.73, 2454.0),\n",
       " (\"États-Unis d'Amérique\", 12782.29, 3682.0),\n",
       " ('Brésil', 6948.28, 3262.0),\n",
       " ('Indonésie', 5672.71, 2776.0),\n",
       " ('Fédération de Russie', 5359.94, 3360.0),\n",
       " ('Pakistan', 4351.26, 2438.0),\n",
       " ('Japon', 4067.62, 2726.0),\n",
       " ('Nigéria', 4041.07, 2700.0),\n",
       " ('Mexique', 3910.55, 3068.0)]"
      ]
     },
     "execution_count": 145,
     "metadata": {},
     "output_type": "execute_result"
    }
   ],
   "source": [
    "#Ratio disponibilité alimentaire en protéines (en kg et kcal) par habitant\n",
    "c.execute(\"\"\"\n",
    "SELECT pays, ROUND(SUM(dispo_prot)/1000, 2) AS dispo_prot_kg, SUM(dispo_alim_kcal_p_j) AS dispo_kcal \n",
    "FROM dispo_alim\n",
    "WHERE année = 2013\n",
    "GROUP BY pays \n",
    "ORDER BY(dispo_prot_kg) \n",
    "DESC LIMIT 10\n",
    "\"\"\")\n",
    "c.fetchall()"
   ]
  },
  {
   "cell_type": "markdown",
   "metadata": {},
   "source": [
    "#### 19.2 Pour chaque année disponible, les 10 pays ayant le plus faible ratio disponibilité alimentaire/habitant en termes de protéines (en kg) par habitant. Le nombre de lignes de la table renvoyée sera donc égal à 10 fois le nombre d'années disponibles"
   ]
  },
  {
   "cell_type": "code",
   "execution_count": 146,
   "metadata": {},
   "outputs": [
    {
     "data": {
      "text/plain": [
       "[('Saint-Kitts-et-Nevis', 1.43),\n",
       " ('Dominique', 2.0),\n",
       " ('Bermudes', 2.14),\n",
       " ('Grenade', 2.68),\n",
       " ('Kiribati', 2.73),\n",
       " ('Antigua-et-Barbuda', 2.74),\n",
       " ('Saint-Vincent-et-les Grenadines', 3.43),\n",
       " ('Sao Tomé-et-Principe', 3.74),\n",
       " ('Sainte-Lucie', 5.7),\n",
       " ('Samoa', 5.93)]"
      ]
     },
     "execution_count": 146,
     "metadata": {},
     "output_type": "execute_result"
    }
   ],
   "source": [
    "c.execute(\"\"\"\n",
    "SELECT PAYS, ROUND(SUM(dispo_prot)/1000, 2) AS dispo_prot_kg\n",
    "FROM dispo_alim\n",
    "WHERE année = 2013\n",
    "GROUP BY pays\n",
    "ORDER BY(dispo_prot_kg)\n",
    "ASC LIMIT 10\n",
    "\"\"\").fetchall()"
   ]
  },
  {
   "cell_type": "markdown",
   "metadata": {},
   "source": [
    "#### 19.3 La quantité totale (en kg) de produits perdus par pays et par année. La table renvoyée contiendra donc une ligne par couple (pays, année)"
   ]
  },
  {
   "cell_type": "code",
   "execution_count": 147,
   "metadata": {},
   "outputs": [
    {
     "data": {
      "text/plain": [
       "[('Chine, continentale', 89575.0),\n",
       " ('Brésil', 75914.0),\n",
       " ('Inde', 55930.0),\n",
       " ('Nigéria', 19854.0),\n",
       " ('Indonésie', 13081.0),\n",
       " ('Turquie', 12036.0),\n",
       " ('Mexique', 8289.0),\n",
       " ('Égypte', 7608.0),\n",
       " ('Ghana', 7442.0),\n",
       " (\"États-Unis d'Amérique\", 7162.0),\n",
       " ('Viet Nam', 6743.0),\n",
       " ('Pakistan', 5897.0),\n",
       " ('Thaïlande', 5749.0),\n",
       " (\"Iran (République islamique d')\", 5450.0),\n",
       " ('Fédération de Russie', 4997.0),\n",
       " ('Angola', 4799.0),\n",
       " ('Ukraine', 4138.0),\n",
       " ('Bangladesh', 4080.0),\n",
       " ('Cameroun', 3981.0),\n",
       " ('Allemagne', 3781.0)]"
      ]
     },
     "execution_count": 147,
     "metadata": {},
     "output_type": "execute_result"
    }
   ],
   "source": [
    "c.execute(\"\"\"\n",
    "SELECT pays, SUM(pertes)\n",
    "FROM equilibre_prod\n",
    "WHERE année = 2013\n",
    "GROUP BY pays\n",
    "ORDER BY SUM(pertes)\n",
    "DESC LIMIT 20\n",
    "\"\"\").fetchall()"
   ]
  },
  {
   "cell_type": "markdown",
   "metadata": {},
   "source": [
    "#### 19.4 Les 10 pays pour lesquels la proportion de personnes sous-alimentées est la plus forte"
   ]
  },
  {
   "cell_type": "code",
   "execution_count": 148,
   "metadata": {},
   "outputs": [
    {
     "data": {
      "text/plain": [
       "[('Inde', 1020.7),\n",
       " ('Chine', 638.1999999999999),\n",
       " ('Chine, continentale', 633.1),\n",
       " ('Pakistan', 196.0),\n",
       " ('Bangladesh', 126.10000000000001),\n",
       " ('Éthiopie', 115.29999999999998),\n",
       " ('Indonésie', 111.7),\n",
       " ('Nigéria', 93.0),\n",
       " ('République-Unie de Tanzanie', 84.9),\n",
       " ('Ouganda', 75.4)]"
      ]
     },
     "execution_count": 148,
     "metadata": {},
     "output_type": "execute_result"
    }
   ],
   "source": [
    "#La proportion de personnes sous-alimentées / Pays a été faite sur le cumul des années 2012 à 2018\n",
    "#Vision globale sur les 7 années enregistrées\n",
    "c.execute(\"\"\"\n",
    "SELECT pays, SUM(nb_personnes) AS personnes\n",
    "FROM sous_nutrition\n",
    "GROUP BY pays\n",
    "ORDER BY personnes DESC LIMIT 10\n",
    "\"\"\").fetchall()"
   ]
  },
  {
   "cell_type": "markdown",
   "metadata": {},
   "source": [
    "#### 19.5 Les 10 produits pour lesquels le ratio Autres utilisations/Disponibilité intérieure est le plus élevé"
   ]
  },
  {
   "cell_type": "code",
   "execution_count": 149,
   "metadata": {},
   "outputs": [
    {
     "data": {
      "text/plain": [
       "[('Alcool, non Comestible', 112.0),\n",
       " ('Huile de Palme', 96.57),\n",
       " ('Huil Plantes Oleif Autr', 85.36),\n",
       " ('Graisses Animales Crue', 46.64),\n",
       " ('Huile de Palmistes', 44.87),\n",
       " ('Huile de Colza&Moutarde', 42.56),\n",
       " ('Plantes Aquatiques', 40.51),\n",
       " ('Huile de Coco', 35.97),\n",
       " ('Manioc', 28.17),\n",
       " ('Edulcorants Autres', 23.44)]"
      ]
     },
     "execution_count": 149,
     "metadata": {},
     "output_type": "execute_result"
    }
   ],
   "source": [
    "c.execute(\"\"\"\n",
    "SELECT produit, ROUND(SUM(autres_utilisations/dispo_int), 2) AS ratio\n",
    "FROM equilibre_prod\n",
    "GROUP BY produit\n",
    "ORDER BY ratio DESC LIMIT 10\n",
    "\"\"\").fetchall()"
   ]
  },
  {
   "cell_type": "markdown",
   "metadata": {},
   "source": [
    "### 20 : Exemples d'autres utilisations de l'Huile de Palme et de l'Huile de Coco"
   ]
  },
  {
   "cell_type": "markdown",
   "metadata": {},
   "source": [
    "#### 20.1 Autres utilisations pour l'Huile de Palme"
   ]
  },
  {
   "cell_type": "markdown",
   "metadata": {},
   "source": [
    "[Source Wikipedia](https://fr.wikipedia.org/wiki/Huile_de_palme)"
   ]
  },
  {
   "cell_type": "markdown",
   "metadata": {},
   "source": [
    "![](p3_photo/usage_huile_palme0.png)"
   ]
  },
  {
   "cell_type": "markdown",
   "metadata": {},
   "source": [
    "![](p3_photo/usage_huile_palme1.png)"
   ]
  },
  {
   "cell_type": "markdown",
   "metadata": {},
   "source": [
    "#### 20.2 Autres utilisations pour l'Huile de Coco"
   ]
  },
  {
   "cell_type": "markdown",
   "metadata": {},
   "source": [
    "[Source Wikipedia](https://fr.wikipedia.org/wiki/Huile_de_coco)"
   ]
  },
  {
   "cell_type": "markdown",
   "metadata": {},
   "source": [
    "![](p3_photo/usage_huilecoco.png)"
   ]
  }
 ],
 "metadata": {
  "kernelspec": {
   "display_name": "Python 3",
   "language": "python",
   "name": "python3"
  },
  "language_info": {
   "codemirror_mode": {
    "name": "ipython",
    "version": 3
   },
   "file_extension": ".py",
   "mimetype": "text/x-python",
   "name": "python",
   "nbconvert_exporter": "python",
   "pygments_lexer": "ipython3",
   "version": "3.7.5"
  }
 },
 "nbformat": 4,
 "nbformat_minor": 2
}
