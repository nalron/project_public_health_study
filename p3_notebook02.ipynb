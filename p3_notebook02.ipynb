{
 "cells": [
  {
   "cell_type": "markdown",
   "metadata": {},
   "source": [
    "# Faim dans le monde : +9 millions de morts par an\n",
    "\n",
    "*Etude de santé publique FAO - Projet 3 - Nalron (septembre 2019) / ENSAE-ENSAI Formation Continue*  "
   ]
  },
  {
   "cell_type": "markdown",
   "metadata": {},
   "source": [
    "---"
   ]
  },
  {
   "cell_type": "markdown",
   "metadata": {},
   "source": [
    "### 7. Combien d'humains pourraient être nourris si toute la disponibilité intérieure mondiale de produits végétaux était utilisée pour de la nourriture ? \n",
    "\n",
    "Les résultats seront exprimés en termes de calories, de protéines, puis en pourcentage de la population mondiale."
   ]
  },
  {
   "cell_type": "markdown",
   "metadata": {},
   "source": [
    "*Consignes :*\n",
    "Renseignez-vous sur la recommandation (de la FAO si possible) concernant le nombre de calories ainsi que sur le nombre de protéines par jour nécessaire à un être humain)."
   ]
  },
  {
   "cell_type": "markdown",
   "metadata": {},
   "source": [
    "*Extrait de la FAO :*\n",
    "\n",
    "Sedentary or light activity: If this PAL was from a female population, 30 to 50 years old, with mean weight of 55 kg and mean BMR of 5.40 MJ/day (1 290 kcal/day), TEE = 1.53 × 5.40 = 8.26 MJ (1 975 kcal), or 150 kJ (36 kcal)/kg/d.\n",
    "\n",
    "Active or moderately active: If this PAL was from a female population, 20 to 25 years old, with mean weight of 57 kg and mean BMR of 5.60 MJ/day (1 338 kcal/day), TEE = 1.76 × 5.60 = 9.86 MJ (2 355 kcal), or 173 kJ (41 kcal)/kg/d.\n",
    "\n",
    "Vigorous or vigorously active: If this PAL was from a male population, 20 to 25 years old, with mean weight of 70 kg and mean BMR of 7.30 MJ/day (1 745 kcal/day), TEE = 2.25 × 7.30 = 16.42 MJ (3 925 kcal), or 235 kJ (56 kcal)/kg/d."
   ]
  },
  {
   "cell_type": "markdown",
   "metadata": {},
   "source": [
    "*>>> <strong>Pour les Calories</strong> les calculs seront fait sur la base de <strong>2 355 Kcal/jour</strong>, soit <strong>859575 Kcal/an.</strong>*"
   ]
  },
  {
   "cell_type": "markdown",
   "metadata": {},
   "source": [
    "Chez les adultes, les recommandations FAO/OMS/UNUsont de 0,8 g/kg pour les femmes et **0,85 g/kg** pour les hommes.\n",
    "[Source les bases de la nutrition FAO](http://www.fao.org/tempref/docrep/fao/004/w0073f/w0073f02.pdf)"
   ]
  },
  {
   "cell_type": "markdown",
   "metadata": {},
   "source": [
    "*>>> <strong>Pour les Protéines</strong> les calculs seront fait sur la base de <strong>0,85 g/kg</strong>, poids moyen de 57 kg, soit <strong>17684 g/an.</strong>*"
   ]
  },
  {
   "cell_type": "markdown",
   "metadata": {},
   "source": [
    "#### 7.1 Résultat en termes de calories"
   ]
  },
  {
   "cell_type": "code",
   "execution_count": 29,
   "metadata": {},
   "outputs": [
    {
     "data": {
      "text/plain": [
       "14153996479.86"
      ]
     },
     "execution_count": 29,
     "metadata": {},
     "output_type": "execute_result"
    }
   ],
   "source": [
    "#Utilisation de la 'disponibilite_interieure_kcal' précédemment trouvée\n",
    "humain_nourris_veg_kcal = round((disponibilite_interieure_kcal / 859575), 2)\n",
    "humain_nourris_veg_kcal"
   ]
  },
  {
   "cell_type": "markdown",
   "metadata": {},
   "source": [
    "*Plus de 14 Milliards de personnes pourraient être nourris*"
   ]
  },
  {
   "cell_type": "code",
   "execution_count": 30,
   "metadata": {},
   "outputs": [
    {
     "data": {
      "text/html": [
       "<div>\n",
       "<style scoped>\n",
       "    .dataframe tbody tr th:only-of-type {\n",
       "        vertical-align: middle;\n",
       "    }\n",
       "\n",
       "    .dataframe tbody tr th {\n",
       "        vertical-align: top;\n",
       "    }\n",
       "\n",
       "    .dataframe thead th {\n",
       "        text-align: right;\n",
       "    }\n",
       "</style>\n",
       "<table border=\"1\" class=\"dataframe\">\n",
       "  <thead>\n",
       "    <tr style=\"text-align: right;\">\n",
       "      <th>Élément</th>\n",
       "      <th>Pays</th>\n",
       "      <th>Produit</th>\n",
       "      <th>Origine</th>\n",
       "      <th>Disponibilité intérieure Kg</th>\n",
       "      <th>Ratio énergie/poids (Kcal/Kg)</th>\n",
       "      <th>Ratio poids de protéines/poids total</th>\n",
       "      <th>Disponibilité intérieure Kcal</th>\n",
       "    </tr>\n",
       "  </thead>\n",
       "  <tbody>\n",
       "    <tr>\n",
       "      <th>0</th>\n",
       "      <td>Arménie</td>\n",
       "      <td>Blé</td>\n",
       "      <td>Végétale</td>\n",
       "      <td>554000000.0</td>\n",
       "      <td>2861.868300</td>\n",
       "      <td>0.085297</td>\n",
       "      <td>1.585475e+12</td>\n",
       "    </tr>\n",
       "    <tr>\n",
       "      <th>2</th>\n",
       "      <td>Arménie</td>\n",
       "      <td>Maïs</td>\n",
       "      <td>Végétale</td>\n",
       "      <td>102000000.0</td>\n",
       "      <td>0.000000</td>\n",
       "      <td>0.121667</td>\n",
       "      <td>0.000000e+00</td>\n",
       "    </tr>\n",
       "    <tr>\n",
       "      <th>3</th>\n",
       "      <td>Arménie</td>\n",
       "      <td>Seigle</td>\n",
       "      <td>Végétale</td>\n",
       "      <td>1000000.0</td>\n",
       "      <td>3041.666667</td>\n",
       "      <td>0.060833</td>\n",
       "      <td>3.041667e+09</td>\n",
       "    </tr>\n",
       "    <tr>\n",
       "      <th>4</th>\n",
       "      <td>Arménie</td>\n",
       "      <td>Avoine</td>\n",
       "      <td>Végétale</td>\n",
       "      <td>6000000.0</td>\n",
       "      <td>1972.972973</td>\n",
       "      <td>0.088784</td>\n",
       "      <td>1.183784e+10</td>\n",
       "    </tr>\n",
       "    <tr>\n",
       "      <th>7</th>\n",
       "      <td>Arménie</td>\n",
       "      <td>Céréales, Autres</td>\n",
       "      <td>Végétale</td>\n",
       "      <td>21000000.0</td>\n",
       "      <td>2607.142857</td>\n",
       "      <td>0.072628</td>\n",
       "      <td>5.475000e+10</td>\n",
       "    </tr>\n",
       "  </tbody>\n",
       "</table>\n",
       "</div>"
      ],
      "text/plain": [
       "Élément     Pays           Produit   Origine  Disponibilité intérieure Kg  \\\n",
       "0        Arménie  Blé               Végétale  554000000.0                   \n",
       "2        Arménie  Maïs              Végétale  102000000.0                   \n",
       "3        Arménie  Seigle            Végétale  1000000.0                     \n",
       "4        Arménie  Avoine            Végétale  6000000.0                     \n",
       "7        Arménie  Céréales, Autres  Végétale  21000000.0                    \n",
       "\n",
       "Élément  Ratio énergie/poids (Kcal/Kg)  Ratio poids de protéines/poids total  \\\n",
       "0        2861.868300                    0.085297                               \n",
       "2        0.000000                       0.121667                               \n",
       "3        3041.666667                    0.060833                               \n",
       "4        1972.972973                    0.088784                               \n",
       "7        2607.142857                    0.072628                               \n",
       "\n",
       "Élément  Disponibilité intérieure Kcal  \n",
       "0        1.585475e+12                   \n",
       "2        0.000000e+00                   \n",
       "3        3.041667e+09                   \n",
       "4        1.183784e+10                   \n",
       "7        5.475000e+10                   "
      ]
     },
     "execution_count": 30,
     "metadata": {},
     "output_type": "execute_result"
    }
   ],
   "source": [
    "df4.head()"
   ]
  },
  {
   "cell_type": "markdown",
   "metadata": {},
   "source": [
    "#### 7.2 Résultat en termes de protéines"
   ]
  },
  {
   "cell_type": "code",
   "execution_count": 31,
   "metadata": {},
   "outputs": [
    {
     "data": {
      "text/plain": [
       "16515601006.81"
      ]
     },
     "execution_count": 31,
     "metadata": {},
     "output_type": "execute_result"
    }
   ],
   "source": [
    "#Utilisation du dataframe df4 sur lequel est appliquée une restriction sur le Végétal\n",
    "humain_nourris_veg_kgprot = ((df4['Disponibilité intérieure Kg']* df4['Ratio poids de protéines/poids total']).sum())/17.68\n",
    "humain_nourris_veg_kgprot = round(humain_nourris_veg_kgprot, 2)\n",
    "humain_nourris_veg_kgprot"
   ]
  },
  {
   "cell_type": "markdown",
   "metadata": {},
   "source": [
    "*Plus de 16 Milliards de personnes pourraient être nourris*"
   ]
  },
  {
   "cell_type": "markdown",
   "metadata": {},
   "source": [
    "#### 7.3 Résultats en pourcentage de la population mondiale"
   ]
  },
  {
   "cell_type": "code",
   "execution_count": 32,
   "metadata": {},
   "outputs": [
    {
     "data": {
      "text/plain": [
       "202.28"
      ]
     },
     "execution_count": 32,
     "metadata": {},
     "output_type": "execute_result"
    }
   ],
   "source": [
    "round(humain_nourris_veg_kcal/population_mondiale*100, 2) "
   ]
  },
  {
   "cell_type": "markdown",
   "metadata": {},
   "source": [
    "*202% de la population mondiale pourrait être nourris* "
   ]
  },
  {
   "cell_type": "code",
   "execution_count": 33,
   "metadata": {},
   "outputs": [
    {
     "data": {
      "text/plain": [
       "236.03"
      ]
     },
     "execution_count": 33,
     "metadata": {},
     "output_type": "execute_result"
    }
   ],
   "source": [
    "round(humain_nourris_veg_kgprot/population_mondiale*100, 2)"
   ]
  },
  {
   "cell_type": "markdown",
   "metadata": {},
   "source": [
    "*236% de la population mondiale pourrait être nourris* "
   ]
  },
  {
   "cell_type": "markdown",
   "metadata": {},
   "source": [
    "### 8. Combien d'humains pourraient être nourris si toute la disponibilité alimentaire en produits végétaux (Food) la nourriture végétale destinée aux animaux (Feed) et les pertes de produits végétaux (Waste) étaient utilisés pour de la nourriture ? \n",
    "\n",
    "Les résultats seront exprimés en termes de calories, de protéines, puis en pourcentage de la population mondiale."
   ]
  },
  {
   "cell_type": "code",
   "execution_count": 34,
   "metadata": {},
   "outputs": [],
   "source": [
    "#Création du dataframe (df8) à partir du dataframe des bilans alimentaires (df2) \n",
    "#Projection et Réduction des données pour cibler uniquement les produits végétaux\n",
    "df8 = df2[df2['Origine'] == 'Végétale']"
   ]
  },
  {
   "cell_type": "markdown",
   "metadata": {},
   "source": [
    "#### 8.1 Résultat en termes de calories"
   ]
  },
  {
   "cell_type": "code",
   "execution_count": 35,
   "metadata": {},
   "outputs": [
    {
     "data": {
      "text/plain": [
       "12031710872.14"
      ]
     },
     "execution_count": 35,
     "metadata": {},
     "output_type": "execute_result"
    }
   ],
   "source": [
    "a = df8['Disponibilité alimentaire (Kcal/an)'] + df8['Aliments pour animaux'] + df8['Pertes']\n",
    "\n",
    "humain_nourris_nourveg_kcal = (a* df8['Ratio énergie/poids (Kcal/Kg)']).sum()\n",
    "humain_nourris_nourveg_kcal = round(humain_nourris_nourveg_kcal / 859575, 2)\n",
    "humain_nourris_nourveg_kcal"
   ]
  },
  {
   "cell_type": "markdown",
   "metadata": {},
   "source": [
    "*Plus de 12 Milliards de personnes pourraient être nourris*"
   ]
  },
  {
   "cell_type": "markdown",
   "metadata": {},
   "source": [
    "#### 8.2 Résultat en termes de protéines"
   ]
  },
  {
   "cell_type": "code",
   "execution_count": 36,
   "metadata": {},
   "outputs": [
    {
     "data": {
      "text/plain": [
       "15064230447.27"
      ]
     },
     "execution_count": 36,
     "metadata": {},
     "output_type": "execute_result"
    }
   ],
   "source": [
    "humain_nourris_nourveg_kgprot = (a* df8['Ratio poids de protéines/poids total']).sum()\n",
    "humain_nourris_nourveg_kgprot = round(humain_nourris_nourveg_kgprot / 17.68, 2)\n",
    "humain_nourris_nourveg_kgprot"
   ]
  },
  {
   "cell_type": "markdown",
   "metadata": {},
   "source": [
    "*Plus de 15 Milliards de personnes pourraient être nourris*"
   ]
  },
  {
   "cell_type": "markdown",
   "metadata": {},
   "source": [
    "#### 8.3 Résultats en pourcentage de la population mondiale"
   ]
  },
  {
   "cell_type": "code",
   "execution_count": 37,
   "metadata": {},
   "outputs": [
    {
     "data": {
      "text/plain": [
       "171.95"
      ]
     },
     "execution_count": 37,
     "metadata": {},
     "output_type": "execute_result"
    }
   ],
   "source": [
    "round(humain_nourris_nourveg_kcal/population_mondiale*100, 2)"
   ]
  },
  {
   "cell_type": "markdown",
   "metadata": {},
   "source": [
    "*Soit 171% de la population mondiale*"
   ]
  },
  {
   "cell_type": "code",
   "execution_count": 38,
   "metadata": {},
   "outputs": [
    {
     "data": {
      "text/plain": [
       "215.28553117676665"
      ]
     },
     "execution_count": 38,
     "metadata": {},
     "output_type": "execute_result"
    }
   ],
   "source": [
    "humain_nourris_nourveg_kgprot/population_mondiale*100"
   ]
  },
  {
   "cell_type": "markdown",
   "metadata": {},
   "source": [
    "*Soit 215% de la population mondiale*"
   ]
  },
  {
   "cell_type": "markdown",
   "metadata": {},
   "source": [
    "### 9. Combien d'humains pourraient être nourris avec la disponibilité alimentaire mondiale ? \n",
    "\n",
    "Les résultats seront exprimés en termes de calories, de protéines, puis en pourcentage de la population mondiale."
   ]
  },
  {
   "cell_type": "code",
   "execution_count": 39,
   "metadata": {},
   "outputs": [
    {
     "data": {
      "text/html": [
       "<div>\n",
       "<style scoped>\n",
       "    .dataframe tbody tr th:only-of-type {\n",
       "        vertical-align: middle;\n",
       "    }\n",
       "\n",
       "    .dataframe tbody tr th {\n",
       "        vertical-align: top;\n",
       "    }\n",
       "\n",
       "    .dataframe thead th {\n",
       "        text-align: right;\n",
       "    }\n",
       "</style>\n",
       "<table border=\"1\" class=\"dataframe\">\n",
       "  <thead>\n",
       "    <tr style=\"text-align: right;\">\n",
       "      <th>Élément</th>\n",
       "      <th>Disponibilité alimentaire (Kcal/an)</th>\n",
       "      <th>Disponibilité de protéines en quantité (Kg/an)</th>\n",
       "    </tr>\n",
       "  </thead>\n",
       "  <tbody>\n",
       "    <tr>\n",
       "      <th>0</th>\n",
       "      <td>1.112684e+09</td>\n",
       "      <td>33163.18460</td>\n",
       "    </tr>\n",
       "    <tr>\n",
       "      <th>1</th>\n",
       "      <td>0.000000e+00</td>\n",
       "      <td>0.00000</td>\n",
       "    </tr>\n",
       "    <tr>\n",
       "      <th>2</th>\n",
       "      <td>0.000000e+00</td>\n",
       "      <td>10.86605</td>\n",
       "    </tr>\n",
       "    <tr>\n",
       "      <th>3</th>\n",
       "      <td>1.086605e+06</td>\n",
       "      <td>21.73210</td>\n",
       "    </tr>\n",
       "    <tr>\n",
       "      <th>4</th>\n",
       "      <td>2.173210e+06</td>\n",
       "      <td>97.79445</td>\n",
       "    </tr>\n",
       "  </tbody>\n",
       "</table>\n",
       "</div>"
      ],
      "text/plain": [
       "Élément  Disponibilité alimentaire (Kcal/an)  \\\n",
       "0        1.112684e+09                          \n",
       "1        0.000000e+00                          \n",
       "2        0.000000e+00                          \n",
       "3        1.086605e+06                          \n",
       "4        2.173210e+06                          \n",
       "\n",
       "Élément  Disponibilité de protéines en quantité (Kg/an)  \n",
       "0        33163.18460                                     \n",
       "1        0.00000                                         \n",
       "2        10.86605                                        \n",
       "3        21.73210                                        \n",
       "4        97.79445                                        "
      ]
     },
     "execution_count": 39,
     "metadata": {},
     "output_type": "execute_result"
    }
   ],
   "source": [
    "#Création du dataframe (df9) selon la disponibilité alimentaire mondiale en Kcal et Kg de protéines\n",
    "df9 = df1[['Disponibilité alimentaire (Kcal/an)', 'Disponibilité de protéines en quantité (Kg/an)']]\n",
    "df9.head()"
   ]
  },
  {
   "cell_type": "markdown",
   "metadata": {},
   "source": [
    "#### 9.1 Résultat en termes de calories"
   ]
  },
  {
   "cell_type": "code",
   "execution_count": 40,
   "metadata": {},
   "outputs": [
    {
     "data": {
      "text/plain": [
       "8566888.78"
      ]
     },
     "execution_count": 40,
     "metadata": {},
     "output_type": "execute_result"
    }
   ],
   "source": [
    "humain_nourris_dispoalim_kcal = round(((df9['Disponibilité alimentaire (Kcal/an)']).sum() / 859575), 2)\n",
    "humain_nourris_dispoalim_kcal"
   ]
  },
  {
   "cell_type": "markdown",
   "metadata": {},
   "source": [
    "*Plus de 8,5 Millions de personnes pourraient être nourris*"
   ]
  },
  {
   "cell_type": "markdown",
   "metadata": {},
   "source": [
    "#### 9.2 Résultat en termes de protéines"
   ]
  },
  {
   "cell_type": "code",
   "execution_count": 41,
   "metadata": {},
   "outputs": [
    {
     "data": {
      "text/plain": [
       "11722804.3"
      ]
     },
     "execution_count": 41,
     "metadata": {},
     "output_type": "execute_result"
    }
   ],
   "source": [
    "#Ma disponibilité de protéines est exprimée en Kg, elle sera *1000 pour avoir une base en grammes\n",
    "humain_nourris_dispoalim_kgprot = round(((df9['Disponibilité de protéines en quantité (Kg/an)']).sum() / 17.68), 2)\n",
    "humain_nourris_dispoalim_kgprot"
   ]
  },
  {
   "cell_type": "markdown",
   "metadata": {},
   "source": [
    "*Plus de 11,7 Millions de personnes pourraient être nourris*"
   ]
  },
  {
   "cell_type": "markdown",
   "metadata": {},
   "source": [
    "#### 9.3 Résultats en pourcentage de la population mondiale"
   ]
  },
  {
   "cell_type": "code",
   "execution_count": 42,
   "metadata": {},
   "outputs": [
    {
     "data": {
      "text/plain": [
       "122.43"
      ]
     },
     "execution_count": 42,
     "metadata": {},
     "output_type": "execute_result"
    }
   ],
   "source": [
    "pourcentage_humain_nourris_dispoalim_cal = round((humain_nourris_dispoalim_kcal*1000 / population_mondiale * 100),2)\n",
    "pourcentage_humain_nourris_dispoalim_cal"
   ]
  },
  {
   "cell_type": "markdown",
   "metadata": {},
   "source": [
    "*Soit 122% de la population mondiale*"
   ]
  },
  {
   "cell_type": "code",
   "execution_count": 43,
   "metadata": {},
   "outputs": [
    {
     "data": {
      "text/plain": [
       "167.53"
      ]
     },
     "execution_count": 43,
     "metadata": {},
     "output_type": "execute_result"
    }
   ],
   "source": [
    "pourcentage_humain_nourris_dispoalim_gprot = round((humain_nourris_dispoalim_kgprot*1000 / population_mondiale * 100),2)\n",
    "pourcentage_humain_nourris_dispoalim_gprot"
   ]
  },
  {
   "cell_type": "markdown",
   "metadata": {},
   "source": [
    "*Soit 167% de la population mondiale*"
   ]
  },
  {
   "cell_type": "markdown",
   "metadata": {},
   "source": [
    "###  10. Quelle proportion de la population mondiale est considérée comme étant en sous-nutrition ?\n",
    "A partir des données téléchargées qui concernent la sous-nutrition."
   ]
  },
  {
   "cell_type": "code",
   "execution_count": 44,
   "metadata": {},
   "outputs": [
    {
     "data": {
      "text/html": [
       "<div>\n",
       "<style scoped>\n",
       "    .dataframe tbody tr th:only-of-type {\n",
       "        vertical-align: middle;\n",
       "    }\n",
       "\n",
       "    .dataframe tbody tr th {\n",
       "        vertical-align: top;\n",
       "    }\n",
       "\n",
       "    .dataframe thead th {\n",
       "        text-align: right;\n",
       "    }\n",
       "</style>\n",
       "<table border=\"1\" class=\"dataframe\">\n",
       "  <thead>\n",
       "    <tr style=\"text-align: right;\">\n",
       "      <th></th>\n",
       "      <th>Code Domaine</th>\n",
       "      <th>Domaine</th>\n",
       "      <th>Code zone</th>\n",
       "      <th>Zone</th>\n",
       "      <th>Code Élément</th>\n",
       "      <th>Élément</th>\n",
       "      <th>Code Produit</th>\n",
       "      <th>Produit</th>\n",
       "      <th>Code année</th>\n",
       "      <th>Année</th>\n",
       "      <th>Unité</th>\n",
       "      <th>Valeur</th>\n",
       "      <th>Symbole</th>\n",
       "      <th>Description du Symbole</th>\n",
       "      <th>Note</th>\n",
       "    </tr>\n",
       "  </thead>\n",
       "  <tbody>\n",
       "    <tr>\n",
       "      <th>0</th>\n",
       "      <td>FS</td>\n",
       "      <td>Données de la sécurité alimentaire</td>\n",
       "      <td>2</td>\n",
       "      <td>Afghanistan</td>\n",
       "      <td>6132</td>\n",
       "      <td>Valeur</td>\n",
       "      <td>210011</td>\n",
       "      <td>Nombre de personnes sous-alimentées (millions) (moyenne sur 3 ans)</td>\n",
       "      <td>20122014</td>\n",
       "      <td>2012-2014</td>\n",
       "      <td>millions</td>\n",
       "      <td>7.9</td>\n",
       "      <td>F</td>\n",
       "      <td>Estimation FAO</td>\n",
       "      <td>NaN</td>\n",
       "    </tr>\n",
       "    <tr>\n",
       "      <th>1</th>\n",
       "      <td>FS</td>\n",
       "      <td>Données de la sécurité alimentaire</td>\n",
       "      <td>2</td>\n",
       "      <td>Afghanistan</td>\n",
       "      <td>6132</td>\n",
       "      <td>Valeur</td>\n",
       "      <td>210011</td>\n",
       "      <td>Nombre de personnes sous-alimentées (millions) (moyenne sur 3 ans)</td>\n",
       "      <td>20132015</td>\n",
       "      <td>2013-2015</td>\n",
       "      <td>millions</td>\n",
       "      <td>8.8</td>\n",
       "      <td>F</td>\n",
       "      <td>Estimation FAO</td>\n",
       "      <td>NaN</td>\n",
       "    </tr>\n",
       "    <tr>\n",
       "      <th>2</th>\n",
       "      <td>FS</td>\n",
       "      <td>Données de la sécurité alimentaire</td>\n",
       "      <td>2</td>\n",
       "      <td>Afghanistan</td>\n",
       "      <td>6132</td>\n",
       "      <td>Valeur</td>\n",
       "      <td>210011</td>\n",
       "      <td>Nombre de personnes sous-alimentées (millions) (moyenne sur 3 ans)</td>\n",
       "      <td>20142016</td>\n",
       "      <td>2014-2016</td>\n",
       "      <td>millions</td>\n",
       "      <td>9.6</td>\n",
       "      <td>F</td>\n",
       "      <td>Estimation FAO</td>\n",
       "      <td>NaN</td>\n",
       "    </tr>\n",
       "    <tr>\n",
       "      <th>3</th>\n",
       "      <td>FS</td>\n",
       "      <td>Données de la sécurité alimentaire</td>\n",
       "      <td>2</td>\n",
       "      <td>Afghanistan</td>\n",
       "      <td>6132</td>\n",
       "      <td>Valeur</td>\n",
       "      <td>210011</td>\n",
       "      <td>Nombre de personnes sous-alimentées (millions) (moyenne sur 3 ans)</td>\n",
       "      <td>20152017</td>\n",
       "      <td>2015-2017</td>\n",
       "      <td>millions</td>\n",
       "      <td>10.2</td>\n",
       "      <td>F</td>\n",
       "      <td>Estimation FAO</td>\n",
       "      <td>NaN</td>\n",
       "    </tr>\n",
       "    <tr>\n",
       "      <th>4</th>\n",
       "      <td>FS</td>\n",
       "      <td>Données de la sécurité alimentaire</td>\n",
       "      <td>2</td>\n",
       "      <td>Afghanistan</td>\n",
       "      <td>6132</td>\n",
       "      <td>Valeur</td>\n",
       "      <td>210011</td>\n",
       "      <td>Nombre de personnes sous-alimentées (millions) (moyenne sur 3 ans)</td>\n",
       "      <td>20162018</td>\n",
       "      <td>2016-2018</td>\n",
       "      <td>millions</td>\n",
       "      <td>10.6</td>\n",
       "      <td>F</td>\n",
       "      <td>Estimation FAO</td>\n",
       "      <td>NaN</td>\n",
       "    </tr>\n",
       "  </tbody>\n",
       "</table>\n",
       "</div>"
      ],
      "text/plain": [
       "  Code Domaine                             Domaine  Code zone         Zone  \\\n",
       "0  FS           Données de la sécurité alimentaire  2          Afghanistan   \n",
       "1  FS           Données de la sécurité alimentaire  2          Afghanistan   \n",
       "2  FS           Données de la sécurité alimentaire  2          Afghanistan   \n",
       "3  FS           Données de la sécurité alimentaire  2          Afghanistan   \n",
       "4  FS           Données de la sécurité alimentaire  2          Afghanistan   \n",
       "\n",
       "   Code Élément Élément  Code Produit  \\\n",
       "0  6132          Valeur  210011         \n",
       "1  6132          Valeur  210011         \n",
       "2  6132          Valeur  210011         \n",
       "3  6132          Valeur  210011         \n",
       "4  6132          Valeur  210011         \n",
       "\n",
       "                                                              Produit  \\\n",
       "0  Nombre de personnes sous-alimentées (millions) (moyenne sur 3 ans)   \n",
       "1  Nombre de personnes sous-alimentées (millions) (moyenne sur 3 ans)   \n",
       "2  Nombre de personnes sous-alimentées (millions) (moyenne sur 3 ans)   \n",
       "3  Nombre de personnes sous-alimentées (millions) (moyenne sur 3 ans)   \n",
       "4  Nombre de personnes sous-alimentées (millions) (moyenne sur 3 ans)   \n",
       "\n",
       "   Code année      Année     Unité Valeur Symbole Description du Symbole  Note  \n",
       "0  20122014    2012-2014  millions  7.9    F       Estimation FAO        NaN    \n",
       "1  20132015    2013-2015  millions  8.8    F       Estimation FAO        NaN    \n",
       "2  20142016    2014-2016  millions  9.6    F       Estimation FAO        NaN    \n",
       "3  20152017    2015-2017  millions  10.2   F       Estimation FAO        NaN    \n",
       "4  20162018    2016-2018  millions  10.6   F       Estimation FAO        NaN    "
      ]
     },
     "execution_count": 44,
     "metadata": {},
     "output_type": "execute_result"
    }
   ],
   "source": [
    "#Création du dataframe (df_sousnut) à partir du fichier 'sousnutrition.csv' extrait du site FAO\n",
    "df_sousnut = pd.read_csv('p3_data/sousnutrition.csv')\n",
    "df_sousnut.head()"
   ]
  },
  {
   "cell_type": "markdown",
   "metadata": {},
   "source": [
    "#### 10.1 Estimation de la population mondiale étant en sous-nutrition en 2013"
   ]
  },
  {
   "cell_type": "code",
   "execution_count": 45,
   "metadata": {},
   "outputs": [],
   "source": [
    "#Les valeurs de population sont des strings, je fais un changement vers des floats\n",
    "#Les valeurs <0.1 seront considérées comme nulles dans nos calculs\n",
    "df_sousnut['Valeur'] = df_sousnut['Valeur'].replace('<0.1', 0)\n",
    "df_sousnut['Valeur'] = df_sousnut['Valeur'].astype('float64')"
   ]
  },
  {
   "cell_type": "code",
   "execution_count": 46,
   "metadata": {},
   "outputs": [
    {
     "data": {
      "text/plain": [
       "881400000.0"
      ]
     },
     "execution_count": 46,
     "metadata": {},
     "output_type": "execute_result"
    }
   ],
   "source": [
    "#Recherche de la Population considérée comme étant en sous-nutrition sur la Période 2012-2014\n",
    "#Les valeurs sont exprimées en Millions de personnes\n",
    "pop_sousnut13 = df_sousnut['Valeur'][df_sousnut['Année'] == '2012-2014'].sum()\n",
    "pop_sousnut13 = round(pop_sousnut13 *1e6, 2)\n",
    "pop_sousnut13"
   ]
  },
  {
   "cell_type": "markdown",
   "metadata": {},
   "source": [
    "*881,40 Millions de personnes dans le monde sont en sous-nutrition sur en 2013*"
   ]
  },
  {
   "cell_type": "markdown",
   "metadata": {},
   "source": [
    "#### 10.2 Estimation de la population mondiale étant en sous-nutrition en 2017"
   ]
  },
  {
   "cell_type": "code",
   "execution_count": 47,
   "metadata": {},
   "outputs": [
    {
     "data": {
      "text/plain": [
       "873300000.0"
      ]
     },
     "execution_count": 47,
     "metadata": {},
     "output_type": "execute_result"
    }
   ],
   "source": [
    "#Pour info sur la Période 2016-2018 nous sommes à :\n",
    "pop_sousnut17 = df_sousnut['Valeur'][df_sousnut['Année'] == '2016-2018'].sum()\n",
    "pop_sousnut17 = pop_sousnut17 *1e6\n",
    "pop_sousnut17"
   ]
  },
  {
   "cell_type": "markdown",
   "metadata": {},
   "source": [
    "*873,30 Millions de personnes dans le monde sont en sous-nutrition sur la période 2017*"
   ]
  },
  {
   "cell_type": "markdown",
   "metadata": {},
   "source": [
    "#### 10.3 Proportion de la population mondiale étant en sous-nutrition en 2013"
   ]
  },
  {
   "cell_type": "code",
   "execution_count": 48,
   "metadata": {},
   "outputs": [
    {
     "data": {
      "text/plain": [
       "12.6"
      ]
     },
     "execution_count": 48,
     "metadata": {},
     "output_type": "execute_result"
    }
   ],
   "source": [
    "proportion_pop_sousnut2013 = round(pop_sousnut13 / population_mondiale * 100, 2)\n",
    "proportion_pop_sousnut2013"
   ]
  },
  {
   "cell_type": "markdown",
   "metadata": {},
   "source": [
    "*Soit 12,6% de la population mondiale en 2013*"
   ]
  },
  {
   "cell_type": "markdown",
   "metadata": {},
   "source": [
    "#### 10.4 Proportion de la population mondiale étant en sous-nutrition en 2017"
   ]
  },
  {
   "cell_type": "code",
   "execution_count": 49,
   "metadata": {},
   "outputs": [
    {
     "data": {
      "text/plain": [
       "12.48"
      ]
     },
     "execution_count": 49,
     "metadata": {},
     "output_type": "execute_result"
    }
   ],
   "source": [
    "proportion_pop_sousnut2017 = round(pop_sousnut17 / population_mondiale * 100, 2)\n",
    "proportion_pop_sousnut2017"
   ]
  },
  {
   "cell_type": "markdown",
   "metadata": {},
   "source": [
    "*Soit 12,48% de la population mondiale en 2017*"
   ]
  },
  {
   "cell_type": "markdown",
   "metadata": {},
   "source": [
    "#### 10.5 Liste des produits (ainsi que leur code) considérés comme des céréales selon la FAO\n",
    "\n",
    "Les Céréales seront identifiées à l'aide d'une colonne de type booléenne nommée \"is_cereal\"."
   ]
  },
  {
   "cell_type": "code",
   "execution_count": 50,
   "metadata": {},
   "outputs": [
    {
     "data": {
      "text/html": [
       "<div>\n",
       "<style scoped>\n",
       "    .dataframe tbody tr th:only-of-type {\n",
       "        vertical-align: middle;\n",
       "    }\n",
       "\n",
       "    .dataframe tbody tr th {\n",
       "        vertical-align: top;\n",
       "    }\n",
       "\n",
       "    .dataframe thead th {\n",
       "        text-align: right;\n",
       "    }\n",
       "</style>\n",
       "<table border=\"1\" class=\"dataframe\">\n",
       "  <thead>\n",
       "    <tr style=\"text-align: right;\">\n",
       "      <th></th>\n",
       "      <th>Code Domaine</th>\n",
       "      <th>Domaine</th>\n",
       "      <th>Code Pays</th>\n",
       "      <th>Pays</th>\n",
       "      <th>Code Élément</th>\n",
       "      <th>Élément</th>\n",
       "      <th>Code Produit</th>\n",
       "      <th>Produit</th>\n",
       "      <th>Code Année</th>\n",
       "      <th>Année</th>\n",
       "      <th>Unité</th>\n",
       "      <th>Valeur</th>\n",
       "      <th>Symbole</th>\n",
       "      <th>Description du Symbole</th>\n",
       "    </tr>\n",
       "  </thead>\n",
       "  <tbody>\n",
       "    <tr>\n",
       "      <th>0</th>\n",
       "      <td>FBS</td>\n",
       "      <td>Bilans Alimentaires</td>\n",
       "      <td>5000</td>\n",
       "      <td>Monde</td>\n",
       "      <td>5511</td>\n",
       "      <td>Production</td>\n",
       "      <td>2511</td>\n",
       "      <td>Blé</td>\n",
       "      <td>2013</td>\n",
       "      <td>2013</td>\n",
       "      <td>Milliers de tonnes</td>\n",
       "      <td>708443</td>\n",
       "      <td>A</td>\n",
       "      <td>Agrégat, peut inclure des données officielles, semi-officielles, estimées ou calculées</td>\n",
       "    </tr>\n",
       "    <tr>\n",
       "      <th>1</th>\n",
       "      <td>FBS</td>\n",
       "      <td>Bilans Alimentaires</td>\n",
       "      <td>5000</td>\n",
       "      <td>Monde</td>\n",
       "      <td>5511</td>\n",
       "      <td>Production</td>\n",
       "      <td>2805</td>\n",
       "      <td>Riz (Eq Blanchi)</td>\n",
       "      <td>2013</td>\n",
       "      <td>2013</td>\n",
       "      <td>Milliers de tonnes</td>\n",
       "      <td>495447</td>\n",
       "      <td>A</td>\n",
       "      <td>Agrégat, peut inclure des données officielles, semi-officielles, estimées ou calculées</td>\n",
       "    </tr>\n",
       "    <tr>\n",
       "      <th>2</th>\n",
       "      <td>FBS</td>\n",
       "      <td>Bilans Alimentaires</td>\n",
       "      <td>5000</td>\n",
       "      <td>Monde</td>\n",
       "      <td>5511</td>\n",
       "      <td>Production</td>\n",
       "      <td>2513</td>\n",
       "      <td>Orge</td>\n",
       "      <td>2013</td>\n",
       "      <td>2013</td>\n",
       "      <td>Milliers de tonnes</td>\n",
       "      <td>142460</td>\n",
       "      <td>A</td>\n",
       "      <td>Agrégat, peut inclure des données officielles, semi-officielles, estimées ou calculées</td>\n",
       "    </tr>\n",
       "    <tr>\n",
       "      <th>3</th>\n",
       "      <td>FBS</td>\n",
       "      <td>Bilans Alimentaires</td>\n",
       "      <td>5000</td>\n",
       "      <td>Monde</td>\n",
       "      <td>5511</td>\n",
       "      <td>Production</td>\n",
       "      <td>2514</td>\n",
       "      <td>Maïs</td>\n",
       "      <td>2013</td>\n",
       "      <td>2013</td>\n",
       "      <td>Milliers de tonnes</td>\n",
       "      <td>1017031</td>\n",
       "      <td>A</td>\n",
       "      <td>Agrégat, peut inclure des données officielles, semi-officielles, estimées ou calculées</td>\n",
       "    </tr>\n",
       "    <tr>\n",
       "      <th>4</th>\n",
       "      <td>FBS</td>\n",
       "      <td>Bilans Alimentaires</td>\n",
       "      <td>5000</td>\n",
       "      <td>Monde</td>\n",
       "      <td>5511</td>\n",
       "      <td>Production</td>\n",
       "      <td>2515</td>\n",
       "      <td>Seigle</td>\n",
       "      <td>2013</td>\n",
       "      <td>2013</td>\n",
       "      <td>Milliers de tonnes</td>\n",
       "      <td>16711</td>\n",
       "      <td>A</td>\n",
       "      <td>Agrégat, peut inclure des données officielles, semi-officielles, estimées ou calculées</td>\n",
       "    </tr>\n",
       "    <tr>\n",
       "      <th>5</th>\n",
       "      <td>FBS</td>\n",
       "      <td>Bilans Alimentaires</td>\n",
       "      <td>5000</td>\n",
       "      <td>Monde</td>\n",
       "      <td>5511</td>\n",
       "      <td>Production</td>\n",
       "      <td>2516</td>\n",
       "      <td>Avoine</td>\n",
       "      <td>2013</td>\n",
       "      <td>2013</td>\n",
       "      <td>Milliers de tonnes</td>\n",
       "      <td>23813</td>\n",
       "      <td>A</td>\n",
       "      <td>Agrégat, peut inclure des données officielles, semi-officielles, estimées ou calculées</td>\n",
       "    </tr>\n",
       "    <tr>\n",
       "      <th>6</th>\n",
       "      <td>FBS</td>\n",
       "      <td>Bilans Alimentaires</td>\n",
       "      <td>5000</td>\n",
       "      <td>Monde</td>\n",
       "      <td>5511</td>\n",
       "      <td>Production</td>\n",
       "      <td>2517</td>\n",
       "      <td>Millet</td>\n",
       "      <td>2013</td>\n",
       "      <td>2013</td>\n",
       "      <td>Milliers de tonnes</td>\n",
       "      <td>28909</td>\n",
       "      <td>A</td>\n",
       "      <td>Agrégat, peut inclure des données officielles, semi-officielles, estimées ou calculées</td>\n",
       "    </tr>\n",
       "    <tr>\n",
       "      <th>7</th>\n",
       "      <td>FBS</td>\n",
       "      <td>Bilans Alimentaires</td>\n",
       "      <td>5000</td>\n",
       "      <td>Monde</td>\n",
       "      <td>5511</td>\n",
       "      <td>Production</td>\n",
       "      <td>2518</td>\n",
       "      <td>Sorgho</td>\n",
       "      <td>2013</td>\n",
       "      <td>2013</td>\n",
       "      <td>Milliers de tonnes</td>\n",
       "      <td>62118</td>\n",
       "      <td>A</td>\n",
       "      <td>Agrégat, peut inclure des données officielles, semi-officielles, estimées ou calculées</td>\n",
       "    </tr>\n",
       "    <tr>\n",
       "      <th>8</th>\n",
       "      <td>FBS</td>\n",
       "      <td>Bilans Alimentaires</td>\n",
       "      <td>5000</td>\n",
       "      <td>Monde</td>\n",
       "      <td>5511</td>\n",
       "      <td>Production</td>\n",
       "      <td>2520</td>\n",
       "      <td>Céréales, Autres</td>\n",
       "      <td>2013</td>\n",
       "      <td>2013</td>\n",
       "      <td>Milliers de tonnes</td>\n",
       "      <td>28415</td>\n",
       "      <td>A</td>\n",
       "      <td>Agrégat, peut inclure des données officielles, semi-officielles, estimées ou calculées</td>\n",
       "    </tr>\n",
       "  </tbody>\n",
       "</table>\n",
       "</div>"
      ],
      "text/plain": [
       "  Code Domaine              Domaine  Code Pays   Pays  Code Élément  \\\n",
       "0  FBS          Bilans Alimentaires  5000       Monde  5511           \n",
       "1  FBS          Bilans Alimentaires  5000       Monde  5511           \n",
       "2  FBS          Bilans Alimentaires  5000       Monde  5511           \n",
       "3  FBS          Bilans Alimentaires  5000       Monde  5511           \n",
       "4  FBS          Bilans Alimentaires  5000       Monde  5511           \n",
       "5  FBS          Bilans Alimentaires  5000       Monde  5511           \n",
       "6  FBS          Bilans Alimentaires  5000       Monde  5511           \n",
       "7  FBS          Bilans Alimentaires  5000       Monde  5511           \n",
       "8  FBS          Bilans Alimentaires  5000       Monde  5511           \n",
       "\n",
       "      Élément  Code Produit           Produit  Code Année  Année  \\\n",
       "0  Production  2511          Blé               2013        2013    \n",
       "1  Production  2805          Riz (Eq Blanchi)  2013        2013    \n",
       "2  Production  2513          Orge              2013        2013    \n",
       "3  Production  2514          Maïs              2013        2013    \n",
       "4  Production  2515          Seigle            2013        2013    \n",
       "5  Production  2516          Avoine            2013        2013    \n",
       "6  Production  2517          Millet            2013        2013    \n",
       "7  Production  2518          Sorgho            2013        2013    \n",
       "8  Production  2520          Céréales, Autres  2013        2013    \n",
       "\n",
       "                Unité   Valeur Symbole  \\\n",
       "0  Milliers de tonnes  708443   A        \n",
       "1  Milliers de tonnes  495447   A        \n",
       "2  Milliers de tonnes  142460   A        \n",
       "3  Milliers de tonnes  1017031  A        \n",
       "4  Milliers de tonnes  16711    A        \n",
       "5  Milliers de tonnes  23813    A        \n",
       "6  Milliers de tonnes  28909    A        \n",
       "7  Milliers de tonnes  62118    A        \n",
       "8  Milliers de tonnes  28415    A        \n",
       "\n",
       "                                                                   Description du Symbole  \n",
       "0  Agrégat, peut inclure des données officielles, semi-officielles, estimées ou calculées  \n",
       "1  Agrégat, peut inclure des données officielles, semi-officielles, estimées ou calculées  \n",
       "2  Agrégat, peut inclure des données officielles, semi-officielles, estimées ou calculées  \n",
       "3  Agrégat, peut inclure des données officielles, semi-officielles, estimées ou calculées  \n",
       "4  Agrégat, peut inclure des données officielles, semi-officielles, estimées ou calculées  \n",
       "5  Agrégat, peut inclure des données officielles, semi-officielles, estimées ou calculées  \n",
       "6  Agrégat, peut inclure des données officielles, semi-officielles, estimées ou calculées  \n",
       "7  Agrégat, peut inclure des données officielles, semi-officielles, estimées ou calculées  \n",
       "8  Agrégat, peut inclure des données officielles, semi-officielles, estimées ou calculées  "
      ]
     },
     "execution_count": 50,
     "metadata": {},
     "output_type": "execute_result"
    }
   ],
   "source": [
    "#Création d'un dataframe (cereal )à partir des données extraites de la FAO\n",
    "cereal = pd.read_csv('p3_data/cereal_item_list.csv')\n",
    "cereal"
   ]
  },
  {
   "cell_type": "code",
   "execution_count": 51,
   "metadata": {},
   "outputs": [
    {
     "data": {
      "text/plain": [
       "2523347"
      ]
     },
     "execution_count": 51,
     "metadata": {},
     "output_type": "execute_result"
    }
   ],
   "source": [
    "#Somme des valeurs de production de céréales sur l'année 2013 exprimée en Milliers de tonnes\n",
    "cereal['Valeur'].sum()"
   ]
  },
  {
   "cell_type": "code",
   "execution_count": 52,
   "metadata": {},
   "outputs": [
    {
     "name": "stdout",
     "output_type": "stream",
     "text": [
      "Soit une production de céréales de 2,5 Milliards de tonnes en 2013\n"
     ]
    }
   ],
   "source": [
    "print(\"Soit une production de céréales de 2,5 Milliards de tonnes en 2013\")"
   ]
  },
  {
   "cell_type": "code",
   "execution_count": 53,
   "metadata": {},
   "outputs": [
    {
     "data": {
      "text/plain": [
       "['Blé',\n",
       " 'Riz (Eq Blanchi)',\n",
       " 'Orge',\n",
       " 'Maïs',\n",
       " 'Seigle',\n",
       " 'Avoine',\n",
       " 'Millet',\n",
       " 'Sorgho',\n",
       " 'Céréales, Autres']"
      ]
     },
     "execution_count": 53,
     "metadata": {},
     "output_type": "execute_result"
    }
   ],
   "source": [
    "#Création de la liste des Céréales \n",
    "cereal_item_list = cereal['Produit'].tolist()\n",
    "cereal_item_list"
   ]
  },
  {
   "cell_type": "markdown",
   "metadata": {},
   "source": [
    "#### 10.6 Création d'une colonne \"is_cereal\" dans le dataframe (df1) des disponibilités alimentaires"
   ]
  },
  {
   "cell_type": "code",
   "execution_count": 54,
   "metadata": {},
   "outputs": [],
   "source": [
    "#Création d'une liste vide nommée is_cereal\n",
    "#Boucle itérative pour faire matcher la liste des Céréales (cereal_item_list) aux produits du dataframe\n",
    "is_cereal = []\n",
    "for row in df1['Produit'] :\n",
    "    if row in cereal_item_list :\n",
    "        is_cereal.append(True)\n",
    "    else : \n",
    "        is_cereal.append(False)"
   ]
  },
  {
   "cell_type": "code",
   "execution_count": 55,
   "metadata": {},
   "outputs": [],
   "source": [
    "df1['is_cereal'] = is_cereal"
   ]
  },
  {
   "cell_type": "code",
   "execution_count": 56,
   "metadata": {},
   "outputs": [
    {
     "data": {
      "text/html": [
       "<div>\n",
       "<style scoped>\n",
       "    .dataframe tbody tr th:only-of-type {\n",
       "        vertical-align: middle;\n",
       "    }\n",
       "\n",
       "    .dataframe tbody tr th {\n",
       "        vertical-align: top;\n",
       "    }\n",
       "\n",
       "    .dataframe thead th {\n",
       "        text-align: right;\n",
       "    }\n",
       "</style>\n",
       "<table border=\"1\" class=\"dataframe\">\n",
       "  <thead>\n",
       "    <tr style=\"text-align: right;\">\n",
       "      <th>Élément</th>\n",
       "      <th>Code Pays</th>\n",
       "      <th>Pays</th>\n",
       "      <th>Code Produit</th>\n",
       "      <th>Produit</th>\n",
       "      <th>Origine</th>\n",
       "      <th>Population</th>\n",
       "      <th>Année</th>\n",
       "      <th>Aliments pour animaux</th>\n",
       "      <th>Autres Utilisations</th>\n",
       "      <th>Disponibilité alimentaire (Kcal/personne/jour)</th>\n",
       "      <th>...</th>\n",
       "      <th>Nourriture</th>\n",
       "      <th>Pertes</th>\n",
       "      <th>Production</th>\n",
       "      <th>Semences</th>\n",
       "      <th>Traitement</th>\n",
       "      <th>Variation de stock</th>\n",
       "      <th>Disponibilité alimentaire (Kcal/an)</th>\n",
       "      <th>Disponibilité de protéines en quantité (Kg/an)</th>\n",
       "      <th>Disponibilité alimentaire en quantité (Kg/an)</th>\n",
       "      <th>is_cereal</th>\n",
       "    </tr>\n",
       "  </thead>\n",
       "  <tbody>\n",
       "    <tr>\n",
       "      <th>0</th>\n",
       "      <td>1</td>\n",
       "      <td>Arménie</td>\n",
       "      <td>2511</td>\n",
       "      <td>Blé</td>\n",
       "      <td>Végétale</td>\n",
       "      <td>2977</td>\n",
       "      <td>2013</td>\n",
       "      <td>93.0</td>\n",
       "      <td>0.0</td>\n",
       "      <td>1024.0</td>\n",
       "      <td>...</td>\n",
       "      <td>389.0</td>\n",
       "      <td>32.0</td>\n",
       "      <td>312.0</td>\n",
       "      <td>30.0</td>\n",
       "      <td>10.0</td>\n",
       "      <td>-118.0</td>\n",
       "      <td>1.112684e+09</td>\n",
       "      <td>33163.18460</td>\n",
       "      <td>388796.20</td>\n",
       "      <td>True</td>\n",
       "    </tr>\n",
       "    <tr>\n",
       "      <th>1</th>\n",
       "      <td>1</td>\n",
       "      <td>Arménie</td>\n",
       "      <td>2513</td>\n",
       "      <td>Orge</td>\n",
       "      <td>Végétale</td>\n",
       "      <td>2977</td>\n",
       "      <td>2013</td>\n",
       "      <td>137.0</td>\n",
       "      <td>26.0</td>\n",
       "      <td>0.0</td>\n",
       "      <td>...</td>\n",
       "      <td>0.0</td>\n",
       "      <td>15.0</td>\n",
       "      <td>189.0</td>\n",
       "      <td>14.0</td>\n",
       "      <td>7.0</td>\n",
       "      <td>0.0</td>\n",
       "      <td>0.000000e+00</td>\n",
       "      <td>0.00000</td>\n",
       "      <td>0.00</td>\n",
       "      <td>True</td>\n",
       "    </tr>\n",
       "    <tr>\n",
       "      <th>2</th>\n",
       "      <td>1</td>\n",
       "      <td>Arménie</td>\n",
       "      <td>2514</td>\n",
       "      <td>Maïs</td>\n",
       "      <td>Végétale</td>\n",
       "      <td>2977</td>\n",
       "      <td>2013</td>\n",
       "      <td>96.0</td>\n",
       "      <td>NaN</td>\n",
       "      <td>0.0</td>\n",
       "      <td>...</td>\n",
       "      <td>0.0</td>\n",
       "      <td>7.0</td>\n",
       "      <td>21.0</td>\n",
       "      <td>0.0</td>\n",
       "      <td>NaN</td>\n",
       "      <td>NaN</td>\n",
       "      <td>0.000000e+00</td>\n",
       "      <td>10.86605</td>\n",
       "      <td>89.31</td>\n",
       "      <td>True</td>\n",
       "    </tr>\n",
       "    <tr>\n",
       "      <th>3</th>\n",
       "      <td>1</td>\n",
       "      <td>Arménie</td>\n",
       "      <td>2515</td>\n",
       "      <td>Seigle</td>\n",
       "      <td>Végétale</td>\n",
       "      <td>2977</td>\n",
       "      <td>2013</td>\n",
       "      <td>1.0</td>\n",
       "      <td>NaN</td>\n",
       "      <td>1.0</td>\n",
       "      <td>...</td>\n",
       "      <td>0.0</td>\n",
       "      <td>0.0</td>\n",
       "      <td>1.0</td>\n",
       "      <td>0.0</td>\n",
       "      <td>NaN</td>\n",
       "      <td>0.0</td>\n",
       "      <td>1.086605e+06</td>\n",
       "      <td>21.73210</td>\n",
       "      <td>357.24</td>\n",
       "      <td>True</td>\n",
       "    </tr>\n",
       "    <tr>\n",
       "      <th>4</th>\n",
       "      <td>1</td>\n",
       "      <td>Arménie</td>\n",
       "      <td>2516</td>\n",
       "      <td>Avoine</td>\n",
       "      <td>Végétale</td>\n",
       "      <td>2977</td>\n",
       "      <td>2013</td>\n",
       "      <td>4.0</td>\n",
       "      <td>NaN</td>\n",
       "      <td>2.0</td>\n",
       "      <td>...</td>\n",
       "      <td>1.0</td>\n",
       "      <td>0.0</td>\n",
       "      <td>5.0</td>\n",
       "      <td>0.0</td>\n",
       "      <td>NaN</td>\n",
       "      <td>NaN</td>\n",
       "      <td>2.173210e+06</td>\n",
       "      <td>97.79445</td>\n",
       "      <td>1101.49</td>\n",
       "      <td>True</td>\n",
       "    </tr>\n",
       "    <tr>\n",
       "      <th>5</th>\n",
       "      <td>1</td>\n",
       "      <td>Arménie</td>\n",
       "      <td>2517</td>\n",
       "      <td>Millet</td>\n",
       "      <td>Végétale</td>\n",
       "      <td>2977</td>\n",
       "      <td>2013</td>\n",
       "      <td>0.0</td>\n",
       "      <td>NaN</td>\n",
       "      <td>NaN</td>\n",
       "      <td>...</td>\n",
       "      <td>NaN</td>\n",
       "      <td>NaN</td>\n",
       "      <td>NaN</td>\n",
       "      <td>NaN</td>\n",
       "      <td>NaN</td>\n",
       "      <td>NaN</td>\n",
       "      <td>NaN</td>\n",
       "      <td>NaN</td>\n",
       "      <td>NaN</td>\n",
       "      <td>True</td>\n",
       "    </tr>\n",
       "    <tr>\n",
       "      <th>6</th>\n",
       "      <td>1</td>\n",
       "      <td>Arménie</td>\n",
       "      <td>2518</td>\n",
       "      <td>Sorgho</td>\n",
       "      <td>Végétale</td>\n",
       "      <td>2977</td>\n",
       "      <td>2013</td>\n",
       "      <td>0.0</td>\n",
       "      <td>NaN</td>\n",
       "      <td>NaN</td>\n",
       "      <td>...</td>\n",
       "      <td>NaN</td>\n",
       "      <td>NaN</td>\n",
       "      <td>NaN</td>\n",
       "      <td>NaN</td>\n",
       "      <td>NaN</td>\n",
       "      <td>NaN</td>\n",
       "      <td>NaN</td>\n",
       "      <td>NaN</td>\n",
       "      <td>NaN</td>\n",
       "      <td>True</td>\n",
       "    </tr>\n",
       "    <tr>\n",
       "      <th>7</th>\n",
       "      <td>1</td>\n",
       "      <td>Arménie</td>\n",
       "      <td>2520</td>\n",
       "      <td>Céréales, Autres</td>\n",
       "      <td>Végétale</td>\n",
       "      <td>2977</td>\n",
       "      <td>2013</td>\n",
       "      <td>1.0</td>\n",
       "      <td>12.0</td>\n",
       "      <td>14.0</td>\n",
       "      <td>...</td>\n",
       "      <td>6.0</td>\n",
       "      <td>1.0</td>\n",
       "      <td>17.0</td>\n",
       "      <td>1.0</td>\n",
       "      <td>NaN</td>\n",
       "      <td>0.0</td>\n",
       "      <td>1.521247e+07</td>\n",
       "      <td>423.77595</td>\n",
       "      <td>5834.92</td>\n",
       "      <td>True</td>\n",
       "    </tr>\n",
       "    <tr>\n",
       "      <th>8</th>\n",
       "      <td>1</td>\n",
       "      <td>Arménie</td>\n",
       "      <td>2531</td>\n",
       "      <td>Pommes de Terre</td>\n",
       "      <td>Végétale</td>\n",
       "      <td>2977</td>\n",
       "      <td>2013</td>\n",
       "      <td>225.0</td>\n",
       "      <td>16.0</td>\n",
       "      <td>82.0</td>\n",
       "      <td>...</td>\n",
       "      <td>134.0</td>\n",
       "      <td>96.0</td>\n",
       "      <td>661.0</td>\n",
       "      <td>123.0</td>\n",
       "      <td>78.0</td>\n",
       "      <td>15.0</td>\n",
       "      <td>8.910161e+07</td>\n",
       "      <td>2108.01370</td>\n",
       "      <td>134262.70</td>\n",
       "      <td>False</td>\n",
       "    </tr>\n",
       "    <tr>\n",
       "      <th>9</th>\n",
       "      <td>1</td>\n",
       "      <td>Arménie</td>\n",
       "      <td>2532</td>\n",
       "      <td>Manioc</td>\n",
       "      <td>Végétale</td>\n",
       "      <td>2977</td>\n",
       "      <td>2013</td>\n",
       "      <td>0.0</td>\n",
       "      <td>NaN</td>\n",
       "      <td>NaN</td>\n",
       "      <td>...</td>\n",
       "      <td>NaN</td>\n",
       "      <td>NaN</td>\n",
       "      <td>NaN</td>\n",
       "      <td>NaN</td>\n",
       "      <td>NaN</td>\n",
       "      <td>NaN</td>\n",
       "      <td>NaN</td>\n",
       "      <td>NaN</td>\n",
       "      <td>NaN</td>\n",
       "      <td>False</td>\n",
       "    </tr>\n",
       "  </tbody>\n",
       "</table>\n",
       "<p>10 rows × 26 columns</p>\n",
       "</div>"
      ],
      "text/plain": [
       "Élément  Code Pays     Pays  Code Produit           Produit   Origine  \\\n",
       "0        1          Arménie  2511          Blé               Végétale   \n",
       "1        1          Arménie  2513          Orge              Végétale   \n",
       "2        1          Arménie  2514          Maïs              Végétale   \n",
       "3        1          Arménie  2515          Seigle            Végétale   \n",
       "4        1          Arménie  2516          Avoine            Végétale   \n",
       "5        1          Arménie  2517          Millet            Végétale   \n",
       "6        1          Arménie  2518          Sorgho            Végétale   \n",
       "7        1          Arménie  2520          Céréales, Autres  Végétale   \n",
       "8        1          Arménie  2531          Pommes de Terre   Végétale   \n",
       "9        1          Arménie  2532          Manioc            Végétale   \n",
       "\n",
       "Élément  Population  Année  Aliments pour animaux  Autres Utilisations  \\\n",
       "0        2977        2013   93.0                   0.0                   \n",
       "1        2977        2013   137.0                  26.0                  \n",
       "2        2977        2013   96.0                  NaN                    \n",
       "3        2977        2013   1.0                   NaN                    \n",
       "4        2977        2013   4.0                   NaN                    \n",
       "5        2977        2013   0.0                   NaN                    \n",
       "6        2977        2013   0.0                   NaN                    \n",
       "7        2977        2013   1.0                    12.0                  \n",
       "8        2977        2013   225.0                  16.0                  \n",
       "9        2977        2013   0.0                   NaN                    \n",
       "\n",
       "Élément  Disponibilité alimentaire (Kcal/personne/jour)  ...  Nourriture  \\\n",
       "0        1024.0                                          ...  389.0        \n",
       "1        0.0                                             ...  0.0          \n",
       "2        0.0                                             ...  0.0          \n",
       "3        1.0                                             ...  0.0          \n",
       "4        2.0                                             ...  1.0          \n",
       "5       NaN                                              ... NaN           \n",
       "6       NaN                                              ... NaN           \n",
       "7        14.0                                            ...  6.0          \n",
       "8        82.0                                            ...  134.0        \n",
       "9       NaN                                              ... NaN           \n",
       "\n",
       "Élément  Pertes  Production  Semences  Traitement  Variation de stock  \\\n",
       "0        32.0    312.0       30.0      10.0       -118.0                \n",
       "1        15.0    189.0       14.0      7.0         0.0                  \n",
       "2        7.0     21.0        0.0      NaN         NaN                   \n",
       "3        0.0     1.0         0.0      NaN          0.0                  \n",
       "4        0.0     5.0         0.0      NaN         NaN                   \n",
       "5       NaN     NaN         NaN       NaN         NaN                   \n",
       "6       NaN     NaN         NaN       NaN         NaN                   \n",
       "7        1.0     17.0        1.0      NaN          0.0                  \n",
       "8        96.0    661.0       123.0     78.0        15.0                 \n",
       "9       NaN     NaN         NaN       NaN         NaN                   \n",
       "\n",
       "Élément  Disponibilité alimentaire (Kcal/an)  \\\n",
       "0        1.112684e+09                          \n",
       "1        0.000000e+00                          \n",
       "2        0.000000e+00                          \n",
       "3        1.086605e+06                          \n",
       "4        2.173210e+06                          \n",
       "5       NaN                                    \n",
       "6       NaN                                    \n",
       "7        1.521247e+07                          \n",
       "8        8.910161e+07                          \n",
       "9       NaN                                    \n",
       "\n",
       "Élément  Disponibilité de protéines en quantité (Kg/an)  \\\n",
       "0        33163.18460                                      \n",
       "1        0.00000                                          \n",
       "2        10.86605                                         \n",
       "3        21.73210                                         \n",
       "4        97.79445                                         \n",
       "5       NaN                                               \n",
       "6       NaN                                               \n",
       "7        423.77595                                        \n",
       "8        2108.01370                                       \n",
       "9       NaN                                               \n",
       "\n",
       "Élément  Disponibilité alimentaire en quantité (Kg/an)  is_cereal  \n",
       "0        388796.20                                      True       \n",
       "1        0.00                                           True       \n",
       "2        89.31                                          True       \n",
       "3        357.24                                         True       \n",
       "4        1101.49                                        True       \n",
       "5       NaN                                             True       \n",
       "6       NaN                                             True       \n",
       "7        5834.92                                        True       \n",
       "8        134262.70                                      False      \n",
       "9       NaN                                             False      \n",
       "\n",
       "[10 rows x 26 columns]"
      ]
     },
     "execution_count": 56,
     "metadata": {},
     "output_type": "execute_result"
    }
   ],
   "source": [
    "df1.head(10)"
   ]
  },
  {
   "cell_type": "markdown",
   "metadata": {},
   "source": [
    "### 11 : Quelle proportion (en termes de poids) est destinée à l'alimentation animale ?\n",
    "En ne prenant en compte que les céréales destinées à l'alimentation (humaine et animale). "
   ]
  },
  {
   "cell_type": "code",
   "execution_count": 57,
   "metadata": {},
   "outputs": [],
   "source": [
    "#Création du dataframe (df100) selon la restriction des produits céréaliers \n",
    "df100 = df1[df1.is_cereal == True]"
   ]
  },
  {
   "cell_type": "markdown",
   "metadata": {},
   "source": [
    "#### 11.1 Part des céréales destinée à l'alimentation animale sur l'année 2013"
   ]
  },
  {
   "cell_type": "code",
   "execution_count": 58,
   "metadata": {},
   "outputs": [
    {
     "data": {
      "text/plain": [
       "873535.0"
      ]
     },
     "execution_count": 58,
     "metadata": {},
     "output_type": "execute_result"
    }
   ],
   "source": [
    "cer_animal2013 = df100['Aliments pour animaux'].sum() \n",
    "cer_animal2013 #valeur exprimée en Milliers de tonnes / an"
   ]
  },
  {
   "cell_type": "markdown",
   "metadata": {},
   "source": [
    "#### 11.2 Part des céréales destinée à l'alimentation humaine sur l'année 2013"
   ]
  },
  {
   "cell_type": "code",
   "execution_count": 59,
   "metadata": {},
   "outputs": [
    {
     "data": {
      "text/plain": [
       "2406999.0"
      ]
     },
     "execution_count": 59,
     "metadata": {},
     "output_type": "execute_result"
    }
   ],
   "source": [
    "cer_humain2013 = df100['Disponibilité intérieure'].sum() \n",
    "cer_humain2013 #valeur exprimée en Milliers de tonnes / an"
   ]
  },
  {
   "cell_type": "markdown",
   "metadata": {},
   "source": [
    "#### 11.3 Proportion de la disponibilité mondiale des céréales destinée à l'alimentation animale sur l'année 2013"
   ]
  },
  {
   "cell_type": "code",
   "execution_count": 60,
   "metadata": {},
   "outputs": [
    {
     "data": {
      "text/plain": [
       "36.29"
      ]
     },
     "execution_count": 60,
     "metadata": {},
     "output_type": "execute_result"
    }
   ],
   "source": [
    "round(873535.0 / 2406999.0 * 100, 2)"
   ]
  },
  {
   "cell_type": "markdown",
   "metadata": {},
   "source": [
    "*36% de la disponibilité mondiale des céréales est destinée à l'alimentation animale.*"
   ]
  },
  {
   "cell_type": "markdown",
   "metadata": {},
   "source": [
    "#### 11.4 Sélection des données bilans alimentaires concernant uniquement les pays qui recensent des personnes en sous-nutrition (source FAO). "
   ]
  },
  {
   "cell_type": "code",
   "execution_count": 61,
   "metadata": {},
   "outputs": [
    {
     "data": {
      "text/html": [
       "<div>\n",
       "<style scoped>\n",
       "    .dataframe tbody tr th:only-of-type {\n",
       "        vertical-align: middle;\n",
       "    }\n",
       "\n",
       "    .dataframe tbody tr th {\n",
       "        vertical-align: top;\n",
       "    }\n",
       "\n",
       "    .dataframe thead th {\n",
       "        text-align: right;\n",
       "    }\n",
       "</style>\n",
       "<table border=\"1\" class=\"dataframe\">\n",
       "  <thead>\n",
       "    <tr style=\"text-align: right;\">\n",
       "      <th></th>\n",
       "      <th>Code Domaine</th>\n",
       "      <th>Domaine</th>\n",
       "      <th>Code zone</th>\n",
       "      <th>Zone</th>\n",
       "      <th>Code Élément</th>\n",
       "      <th>Élément</th>\n",
       "      <th>Code Produit</th>\n",
       "      <th>Produit</th>\n",
       "      <th>Code année</th>\n",
       "      <th>Année</th>\n",
       "      <th>Unité</th>\n",
       "      <th>Valeur</th>\n",
       "      <th>Symbole</th>\n",
       "      <th>Description du Symbole</th>\n",
       "      <th>Note</th>\n",
       "    </tr>\n",
       "  </thead>\n",
       "  <tbody>\n",
       "    <tr>\n",
       "      <th>0</th>\n",
       "      <td>FS</td>\n",
       "      <td>Données de la sécurité alimentaire</td>\n",
       "      <td>2</td>\n",
       "      <td>Afghanistan</td>\n",
       "      <td>6132</td>\n",
       "      <td>Valeur</td>\n",
       "      <td>210011</td>\n",
       "      <td>Nombre de personnes sous-alimentées (millions) (moyenne sur 3 ans)</td>\n",
       "      <td>20122014</td>\n",
       "      <td>2012-2014</td>\n",
       "      <td>millions</td>\n",
       "      <td>7.9</td>\n",
       "      <td>F</td>\n",
       "      <td>Estimation FAO</td>\n",
       "      <td>NaN</td>\n",
       "    </tr>\n",
       "    <tr>\n",
       "      <th>5</th>\n",
       "      <td>FS</td>\n",
       "      <td>Données de la sécurité alimentaire</td>\n",
       "      <td>202</td>\n",
       "      <td>Afrique du Sud</td>\n",
       "      <td>6132</td>\n",
       "      <td>Valeur</td>\n",
       "      <td>210011</td>\n",
       "      <td>Nombre de personnes sous-alimentées (millions) (moyenne sur 3 ans)</td>\n",
       "      <td>20122014</td>\n",
       "      <td>2012-2014</td>\n",
       "      <td>millions</td>\n",
       "      <td>2.6</td>\n",
       "      <td>F</td>\n",
       "      <td>Estimation FAO</td>\n",
       "      <td>NaN</td>\n",
       "    </tr>\n",
       "    <tr>\n",
       "      <th>10</th>\n",
       "      <td>FS</td>\n",
       "      <td>Données de la sécurité alimentaire</td>\n",
       "      <td>3</td>\n",
       "      <td>Albanie</td>\n",
       "      <td>6132</td>\n",
       "      <td>Valeur</td>\n",
       "      <td>210011</td>\n",
       "      <td>Nombre de personnes sous-alimentées (millions) (moyenne sur 3 ans)</td>\n",
       "      <td>20122014</td>\n",
       "      <td>2012-2014</td>\n",
       "      <td>millions</td>\n",
       "      <td>0.2</td>\n",
       "      <td>F</td>\n",
       "      <td>Estimation FAO</td>\n",
       "      <td>NaN</td>\n",
       "    </tr>\n",
       "    <tr>\n",
       "      <th>15</th>\n",
       "      <td>FS</td>\n",
       "      <td>Données de la sécurité alimentaire</td>\n",
       "      <td>4</td>\n",
       "      <td>Algérie</td>\n",
       "      <td>6132</td>\n",
       "      <td>Valeur</td>\n",
       "      <td>210011</td>\n",
       "      <td>Nombre de personnes sous-alimentées (millions) (moyenne sur 3 ans)</td>\n",
       "      <td>20122014</td>\n",
       "      <td>2012-2014</td>\n",
       "      <td>millions</td>\n",
       "      <td>1.7</td>\n",
       "      <td>F</td>\n",
       "      <td>Estimation FAO</td>\n",
       "      <td>NaN</td>\n",
       "    </tr>\n",
       "    <tr>\n",
       "      <th>20</th>\n",
       "      <td>FS</td>\n",
       "      <td>Données de la sécurité alimentaire</td>\n",
       "      <td>79</td>\n",
       "      <td>Allemagne</td>\n",
       "      <td>6132</td>\n",
       "      <td>Valeur</td>\n",
       "      <td>210011</td>\n",
       "      <td>Nombre de personnes sous-alimentées (millions) (moyenne sur 3 ans)</td>\n",
       "      <td>20122014</td>\n",
       "      <td>2012-2014</td>\n",
       "      <td>millions</td>\n",
       "      <td>NaN</td>\n",
       "      <td>NR</td>\n",
       "      <td>Non rapportée</td>\n",
       "      <td>NaN</td>\n",
       "    </tr>\n",
       "  </tbody>\n",
       "</table>\n",
       "</div>"
      ],
      "text/plain": [
       "   Code Domaine                             Domaine  Code zone  \\\n",
       "0   FS           Données de la sécurité alimentaire  2           \n",
       "5   FS           Données de la sécurité alimentaire  202         \n",
       "10  FS           Données de la sécurité alimentaire  3           \n",
       "15  FS           Données de la sécurité alimentaire  4           \n",
       "20  FS           Données de la sécurité alimentaire  79          \n",
       "\n",
       "              Zone  Code Élément Élément  Code Produit  \\\n",
       "0   Afghanistan     6132          Valeur  210011         \n",
       "5   Afrique du Sud  6132          Valeur  210011         \n",
       "10  Albanie         6132          Valeur  210011         \n",
       "15  Algérie         6132          Valeur  210011         \n",
       "20  Allemagne       6132          Valeur  210011         \n",
       "\n",
       "                                                               Produit  \\\n",
       "0   Nombre de personnes sous-alimentées (millions) (moyenne sur 3 ans)   \n",
       "5   Nombre de personnes sous-alimentées (millions) (moyenne sur 3 ans)   \n",
       "10  Nombre de personnes sous-alimentées (millions) (moyenne sur 3 ans)   \n",
       "15  Nombre de personnes sous-alimentées (millions) (moyenne sur 3 ans)   \n",
       "20  Nombre de personnes sous-alimentées (millions) (moyenne sur 3 ans)   \n",
       "\n",
       "    Code année      Année     Unité  Valeur Symbole Description du Symbole  \\\n",
       "0   20122014    2012-2014  millions  7.9     F       Estimation FAO          \n",
       "5   20122014    2012-2014  millions  2.6     F       Estimation FAO          \n",
       "10  20122014    2012-2014  millions  0.2     F       Estimation FAO          \n",
       "15  20122014    2012-2014  millions  1.7     F       Estimation FAO          \n",
       "20  20122014    2012-2014  millions NaN      NR      Non rapportée           \n",
       "\n",
       "    Note  \n",
       "0  NaN    \n",
       "5  NaN    \n",
       "10 NaN    \n",
       "15 NaN    \n",
       "20 NaN    "
      ]
     },
     "execution_count": 61,
     "metadata": {},
     "output_type": "execute_result"
    }
   ],
   "source": [
    "#Création d'un dataframe complet selon les conditions restrictives des personnes en sous-nutrition    \n",
    "#Réduction du dataframe relatif à la sous-nutrition (df_sousnut) sur l'année 2013\n",
    "df111 = df_sousnut[df_sousnut['Code année'] == 20122014] \n",
    "df111.head()"
   ]
  },
  {
   "cell_type": "code",
   "execution_count": 62,
   "metadata": {},
   "outputs": [],
   "source": [
    "#Suppression des NaN sur la colonne \"Valeur\" pour ne comptabiliser les pays non sous-alimentés \n",
    "#Comme l'exemple ci-dessus de l'Allemagne\n",
    "df111 = df111.dropna(subset=['Valeur'])"
   ]
  },
  {
   "cell_type": "code",
   "execution_count": 63,
   "metadata": {
    "scrolled": false
   },
   "outputs": [
    {
     "name": "stdout",
     "output_type": "stream",
     "text": [
      "120\n"
     ]
    }
   ],
   "source": [
    "#Identification des Pays dans lesquels la FAO recense des personnes en sous-nutrition\n",
    "#120 Pays sont concernés\n",
    "print(df111['Code zone'].nunique())\n",
    "list_pays_sousnut = df111['Code zone'].tolist()"
   ]
  },
  {
   "cell_type": "code",
   "execution_count": 64,
   "metadata": {},
   "outputs": [],
   "source": [
    "#Création d'une colonne pour identifier dans nos données des bilans alimentaires les personnes étant en sous-nutrition\n",
    "#Création d'une liste vide nommée pays_sousnut\n",
    "#Boucle itérative pour faire matcher la liste des 120 pays (list_pays_sousnut) aux données des bilans alimentaires\n",
    "pays_sousnut = []\n",
    "\n",
    "for code in df1['Code Pays'] :\n",
    "    if code in list_pays_sousnut :\n",
    "        pays_sousnut.append(True)\n",
    "    else : \n",
    "        pays_sousnut.append(False)"
   ]
  },
  {
   "cell_type": "code",
   "execution_count": 65,
   "metadata": {},
   "outputs": [
    {
     "data": {
      "text/html": [
       "<div>\n",
       "<style scoped>\n",
       "    .dataframe tbody tr th:only-of-type {\n",
       "        vertical-align: middle;\n",
       "    }\n",
       "\n",
       "    .dataframe tbody tr th {\n",
       "        vertical-align: top;\n",
       "    }\n",
       "\n",
       "    .dataframe thead th {\n",
       "        text-align: right;\n",
       "    }\n",
       "</style>\n",
       "<table border=\"1\" class=\"dataframe\">\n",
       "  <thead>\n",
       "    <tr style=\"text-align: right;\">\n",
       "      <th>Élément</th>\n",
       "      <th>Code Pays</th>\n",
       "      <th>Pays</th>\n",
       "      <th>Code Produit</th>\n",
       "      <th>Produit</th>\n",
       "      <th>Origine</th>\n",
       "      <th>Population</th>\n",
       "      <th>Année</th>\n",
       "      <th>Aliments pour animaux</th>\n",
       "      <th>Autres Utilisations</th>\n",
       "      <th>Disponibilité alimentaire (Kcal/personne/jour)</th>\n",
       "      <th>...</th>\n",
       "      <th>Pertes</th>\n",
       "      <th>Production</th>\n",
       "      <th>Semences</th>\n",
       "      <th>Traitement</th>\n",
       "      <th>Variation de stock</th>\n",
       "      <th>Disponibilité alimentaire (Kcal/an)</th>\n",
       "      <th>Disponibilité de protéines en quantité (Kg/an)</th>\n",
       "      <th>Disponibilité alimentaire en quantité (Kg/an)</th>\n",
       "      <th>is_cereal</th>\n",
       "      <th>sous_nut</th>\n",
       "    </tr>\n",
       "  </thead>\n",
       "  <tbody>\n",
       "    <tr>\n",
       "      <th>0</th>\n",
       "      <td>1</td>\n",
       "      <td>Arménie</td>\n",
       "      <td>2511</td>\n",
       "      <td>Blé</td>\n",
       "      <td>Végétale</td>\n",
       "      <td>2977</td>\n",
       "      <td>2013</td>\n",
       "      <td>93.0</td>\n",
       "      <td>0.0</td>\n",
       "      <td>1024.0</td>\n",
       "      <td>...</td>\n",
       "      <td>32.0</td>\n",
       "      <td>312.0</td>\n",
       "      <td>30.0</td>\n",
       "      <td>10.0</td>\n",
       "      <td>-118.0</td>\n",
       "      <td>1.112684e+09</td>\n",
       "      <td>33163.18460</td>\n",
       "      <td>388796.20</td>\n",
       "      <td>True</td>\n",
       "      <td>True</td>\n",
       "    </tr>\n",
       "    <tr>\n",
       "      <th>1</th>\n",
       "      <td>1</td>\n",
       "      <td>Arménie</td>\n",
       "      <td>2513</td>\n",
       "      <td>Orge</td>\n",
       "      <td>Végétale</td>\n",
       "      <td>2977</td>\n",
       "      <td>2013</td>\n",
       "      <td>137.0</td>\n",
       "      <td>26.0</td>\n",
       "      <td>0.0</td>\n",
       "      <td>...</td>\n",
       "      <td>15.0</td>\n",
       "      <td>189.0</td>\n",
       "      <td>14.0</td>\n",
       "      <td>7.0</td>\n",
       "      <td>0.0</td>\n",
       "      <td>0.000000e+00</td>\n",
       "      <td>0.00000</td>\n",
       "      <td>0.00</td>\n",
       "      <td>True</td>\n",
       "      <td>True</td>\n",
       "    </tr>\n",
       "    <tr>\n",
       "      <th>2</th>\n",
       "      <td>1</td>\n",
       "      <td>Arménie</td>\n",
       "      <td>2514</td>\n",
       "      <td>Maïs</td>\n",
       "      <td>Végétale</td>\n",
       "      <td>2977</td>\n",
       "      <td>2013</td>\n",
       "      <td>96.0</td>\n",
       "      <td>NaN</td>\n",
       "      <td>0.0</td>\n",
       "      <td>...</td>\n",
       "      <td>7.0</td>\n",
       "      <td>21.0</td>\n",
       "      <td>0.0</td>\n",
       "      <td>NaN</td>\n",
       "      <td>NaN</td>\n",
       "      <td>0.000000e+00</td>\n",
       "      <td>10.86605</td>\n",
       "      <td>89.31</td>\n",
       "      <td>True</td>\n",
       "      <td>True</td>\n",
       "    </tr>\n",
       "    <tr>\n",
       "      <th>3</th>\n",
       "      <td>1</td>\n",
       "      <td>Arménie</td>\n",
       "      <td>2515</td>\n",
       "      <td>Seigle</td>\n",
       "      <td>Végétale</td>\n",
       "      <td>2977</td>\n",
       "      <td>2013</td>\n",
       "      <td>1.0</td>\n",
       "      <td>NaN</td>\n",
       "      <td>1.0</td>\n",
       "      <td>...</td>\n",
       "      <td>0.0</td>\n",
       "      <td>1.0</td>\n",
       "      <td>0.0</td>\n",
       "      <td>NaN</td>\n",
       "      <td>0.0</td>\n",
       "      <td>1.086605e+06</td>\n",
       "      <td>21.73210</td>\n",
       "      <td>357.24</td>\n",
       "      <td>True</td>\n",
       "      <td>True</td>\n",
       "    </tr>\n",
       "    <tr>\n",
       "      <th>4</th>\n",
       "      <td>1</td>\n",
       "      <td>Arménie</td>\n",
       "      <td>2516</td>\n",
       "      <td>Avoine</td>\n",
       "      <td>Végétale</td>\n",
       "      <td>2977</td>\n",
       "      <td>2013</td>\n",
       "      <td>4.0</td>\n",
       "      <td>NaN</td>\n",
       "      <td>2.0</td>\n",
       "      <td>...</td>\n",
       "      <td>0.0</td>\n",
       "      <td>5.0</td>\n",
       "      <td>0.0</td>\n",
       "      <td>NaN</td>\n",
       "      <td>NaN</td>\n",
       "      <td>2.173210e+06</td>\n",
       "      <td>97.79445</td>\n",
       "      <td>1101.49</td>\n",
       "      <td>True</td>\n",
       "      <td>True</td>\n",
       "    </tr>\n",
       "  </tbody>\n",
       "</table>\n",
       "<p>5 rows × 27 columns</p>\n",
       "</div>"
      ],
      "text/plain": [
       "Élément  Code Pays     Pays  Code Produit Produit   Origine  Population  \\\n",
       "0        1          Arménie  2511          Blé     Végétale  2977         \n",
       "1        1          Arménie  2513          Orge    Végétale  2977         \n",
       "2        1          Arménie  2514          Maïs    Végétale  2977         \n",
       "3        1          Arménie  2515          Seigle  Végétale  2977         \n",
       "4        1          Arménie  2516          Avoine  Végétale  2977         \n",
       "\n",
       "Élément  Année  Aliments pour animaux  Autres Utilisations  \\\n",
       "0        2013   93.0                   0.0                   \n",
       "1        2013   137.0                  26.0                  \n",
       "2        2013   96.0                  NaN                    \n",
       "3        2013   1.0                   NaN                    \n",
       "4        2013   4.0                   NaN                    \n",
       "\n",
       "Élément  Disponibilité alimentaire (Kcal/personne/jour)  ...  Pertes  \\\n",
       "0        1024.0                                          ...  32.0     \n",
       "1        0.0                                             ...  15.0     \n",
       "2        0.0                                             ...  7.0      \n",
       "3        1.0                                             ...  0.0      \n",
       "4        2.0                                             ...  0.0      \n",
       "\n",
       "Élément  Production  Semences  Traitement  Variation de stock  \\\n",
       "0        312.0       30.0      10.0       -118.0                \n",
       "1        189.0       14.0      7.0         0.0                  \n",
       "2        21.0        0.0      NaN         NaN                   \n",
       "3        1.0         0.0      NaN          0.0                  \n",
       "4        5.0         0.0      NaN         NaN                   \n",
       "\n",
       "Élément  Disponibilité alimentaire (Kcal/an)  \\\n",
       "0        1.112684e+09                          \n",
       "1        0.000000e+00                          \n",
       "2        0.000000e+00                          \n",
       "3        1.086605e+06                          \n",
       "4        2.173210e+06                          \n",
       "\n",
       "Élément  Disponibilité de protéines en quantité (Kg/an)  \\\n",
       "0        33163.18460                                      \n",
       "1        0.00000                                          \n",
       "2        10.86605                                         \n",
       "3        21.73210                                         \n",
       "4        97.79445                                         \n",
       "\n",
       "Élément  Disponibilité alimentaire en quantité (Kg/an)  is_cereal  sous_nut  \n",
       "0        388796.20                                      True       True      \n",
       "1        0.00                                           True       True      \n",
       "2        89.31                                          True       True      \n",
       "3        357.24                                         True       True      \n",
       "4        1101.49                                        True       True      \n",
       "\n",
       "[5 rows x 27 columns]"
      ]
     },
     "execution_count": 65,
     "metadata": {},
     "output_type": "execute_result"
    }
   ],
   "source": [
    "#Création d'un dataframe des bilans alimentaires avec mention des populations étant en sous-nutrition\n",
    "#Réduction selon la condition de sous-nutrition des populations concernées\n",
    "df112 = df1\n",
    "df112['sous_nut'] = pays_sousnut\n",
    "df112[df112['sous_nut'] == True]\n",
    "df112.head()"
   ]
  },
  {
   "cell_type": "markdown",
   "metadata": {},
   "source": [
    "#### 11.5 Liste des 15 produits les plus exportés par ce groupe de pays sur l'année 2013"
   ]
  },
  {
   "cell_type": "code",
   "execution_count": 66,
   "metadata": {},
   "outputs": [
    {
     "data": {
      "text/html": [
       "<div>\n",
       "<style scoped>\n",
       "    .dataframe tbody tr th:only-of-type {\n",
       "        vertical-align: middle;\n",
       "    }\n",
       "\n",
       "    .dataframe tbody tr th {\n",
       "        vertical-align: top;\n",
       "    }\n",
       "\n",
       "    .dataframe thead th {\n",
       "        text-align: right;\n",
       "    }\n",
       "</style>\n",
       "<table border=\"1\" class=\"dataframe\">\n",
       "  <thead>\n",
       "    <tr style=\"text-align: right;\">\n",
       "      <th>Élément</th>\n",
       "      <th>index</th>\n",
       "      <th>Code Produit</th>\n",
       "      <th>Produit</th>\n",
       "      <th>Exportations - Quantité</th>\n",
       "    </tr>\n",
       "  </thead>\n",
       "  <tbody>\n",
       "    <tr>\n",
       "      <th>0</th>\n",
       "      <td>12</td>\n",
       "      <td>436914</td>\n",
       "      <td>Blé</td>\n",
       "      <td>198380.0</td>\n",
       "    </tr>\n",
       "    <tr>\n",
       "      <th>1</th>\n",
       "      <td>52</td>\n",
       "      <td>437436</td>\n",
       "      <td>Maïs</td>\n",
       "      <td>128787.0</td>\n",
       "    </tr>\n",
       "    <tr>\n",
       "      <th>2</th>\n",
       "      <td>48</td>\n",
       "      <td>495552</td>\n",
       "      <td>Lait - Excl Beurre</td>\n",
       "      <td>125098.0</td>\n",
       "    </tr>\n",
       "    <tr>\n",
       "      <th>3</th>\n",
       "      <td>81</td>\n",
       "      <td>424130</td>\n",
       "      <td>Soja</td>\n",
       "      <td>106912.0</td>\n",
       "    </tr>\n",
       "    <tr>\n",
       "      <th>4</th>\n",
       "      <td>83</td>\n",
       "      <td>442308</td>\n",
       "      <td>Sucre Eq Brut</td>\n",
       "      <td>68320.0</td>\n",
       "    </tr>\n",
       "    <tr>\n",
       "      <th>5</th>\n",
       "      <td>39</td>\n",
       "      <td>438090</td>\n",
       "      <td>Huile de Palme</td>\n",
       "      <td>50673.0</td>\n",
       "    </tr>\n",
       "    <tr>\n",
       "      <th>6</th>\n",
       "      <td>49</td>\n",
       "      <td>453270</td>\n",
       "      <td>Légumes, Autres</td>\n",
       "      <td>44535.0</td>\n",
       "    </tr>\n",
       "    <tr>\n",
       "      <th>7</th>\n",
       "      <td>62</td>\n",
       "      <td>434749</td>\n",
       "      <td>Orge</td>\n",
       "      <td>41585.0</td>\n",
       "    </tr>\n",
       "    <tr>\n",
       "      <th>8</th>\n",
       "      <td>79</td>\n",
       "      <td>488070</td>\n",
       "      <td>Riz (Eq Blanchi)</td>\n",
       "      <td>41445.0</td>\n",
       "    </tr>\n",
       "    <tr>\n",
       "      <th>9</th>\n",
       "      <td>61</td>\n",
       "      <td>451703</td>\n",
       "      <td>Oranges, Mandarines</td>\n",
       "      <td>37489.0</td>\n",
       "    </tr>\n",
       "    <tr>\n",
       "      <th>10</th>\n",
       "      <td>51</td>\n",
       "      <td>422844</td>\n",
       "      <td>Manioc</td>\n",
       "      <td>36052.0</td>\n",
       "    </tr>\n",
       "    <tr>\n",
       "      <th>11</th>\n",
       "      <td>25</td>\n",
       "      <td>456750</td>\n",
       "      <td>Fruits, Autres</td>\n",
       "      <td>30165.0</td>\n",
       "    </tr>\n",
       "    <tr>\n",
       "      <th>12</th>\n",
       "      <td>76</td>\n",
       "      <td>440394</td>\n",
       "      <td>Pommes de Terre</td>\n",
       "      <td>29259.0</td>\n",
       "    </tr>\n",
       "    <tr>\n",
       "      <th>13</th>\n",
       "      <td>73</td>\n",
       "      <td>477999</td>\n",
       "      <td>Poissons Pelagiques</td>\n",
       "      <td>23134.0</td>\n",
       "    </tr>\n",
       "    <tr>\n",
       "      <th>14</th>\n",
       "      <td>89</td>\n",
       "      <td>449973</td>\n",
       "      <td>Tomates</td>\n",
       "      <td>21987.0</td>\n",
       "    </tr>\n",
       "  </tbody>\n",
       "</table>\n",
       "</div>"
      ],
      "text/plain": [
       "Élément  index  Code Produit              Produit  Exportations - Quantité\n",
       "0        12     436914        Blé                  198380.0               \n",
       "1        52     437436        Maïs                 128787.0               \n",
       "2        48     495552        Lait - Excl Beurre   125098.0               \n",
       "3        81     424130        Soja                 106912.0               \n",
       "4        83     442308        Sucre Eq Brut        68320.0                \n",
       "5        39     438090        Huile de Palme       50673.0                \n",
       "6        49     453270        Légumes, Autres      44535.0                \n",
       "7        62     434749        Orge                 41585.0                \n",
       "8        79     488070        Riz (Eq Blanchi)     41445.0                \n",
       "9        61     451703        Oranges, Mandarines  37489.0                \n",
       "10       51     422844        Manioc               36052.0                \n",
       "11       25     456750        Fruits, Autres       30165.0                \n",
       "12       76     440394        Pommes de Terre      29259.0                \n",
       "13       73     477999        Poissons Pelagiques  23134.0                \n",
       "14       89     449973        Tomates              21987.0                "
      ]
     },
     "execution_count": 66,
     "metadata": {},
     "output_type": "execute_result"
    }
   ],
   "source": [
    "#Agrégation des données sur les produits pour tous les pays confondus\n",
    "#Restriction sur les données d'exportation de ces produits\n",
    "#Projection sur les données recherchées…\n",
    "df112 = df112.groupby('Produit').sum().reset_index()\n",
    "df112 = df112.sort_values(by=['Exportations - Quantité'], ascending=False)\n",
    "\n",
    "df112 = df112[['Code Produit', 'Produit', 'Exportations - Quantité']].reset_index()\n",
    "df112[:15]"
   ]
  },
  {
   "cell_type": "markdown",
   "metadata": {},
   "source": [
    "#### 11.6 Sélection des 200 plus grandes importations de ces produits sur l'année 2013\n",
    "La sélection sera établie sur les données des bilans alimentaires au niveau mondial (dataframe df1)\n",
    "\n",
    "(1 importation = une quantité d'un produit donné importée par un pays donné sur l'année choisie)"
   ]
  },
  {
   "cell_type": "code",
   "execution_count": 67,
   "metadata": {},
   "outputs": [],
   "source": [
    "#Création du dataframe (df113) basé sur les bilans alimentaires au niveau mondial\n",
    "df113 = df1"
   ]
  },
  {
   "cell_type": "code",
   "execution_count": 68,
   "metadata": {},
   "outputs": [
    {
     "data": {
      "text/plain": [
       "['Blé',\n",
       " 'Maïs',\n",
       " 'Lait - Excl Beurre',\n",
       " 'Soja',\n",
       " 'Sucre Eq Brut',\n",
       " 'Huile de Palme',\n",
       " 'Légumes, Autres',\n",
       " 'Orge',\n",
       " 'Riz (Eq Blanchi)',\n",
       " 'Oranges, Mandarines',\n",
       " 'Manioc',\n",
       " 'Fruits, Autres',\n",
       " 'Pommes de Terre',\n",
       " 'Poissons Pelagiques',\n",
       " 'Tomates']"
      ]
     },
     "execution_count": 68,
     "metadata": {},
     "output_type": "execute_result"
    }
   ],
   "source": [
    "#Sélection des 15 produits précédemment trouvés sur l'année 2013\n",
    "#(15 produits les plus exportés par les Pays dont la Population est en sous-nutrition)\n",
    "list_prod_import = df112['Produit'][:15].tolist()\n",
    "list_prod_import"
   ]
  },
  {
   "cell_type": "code",
   "execution_count": 69,
   "metadata": {},
   "outputs": [],
   "source": [
    "#Création d'une colonne pour identifier dans nos données des bilans alimentaires les 15 produits\n",
    "#Création d'une liste vide nommée prod_import_sousnut\n",
    "#Boucle itérative pour faire matcher la liste des 15 produits (list_prod_import) aux données des bilans alimentaires\n",
    "\n",
    "prod_import_sousnut = []\n",
    "for i in df1['Produit'] :\n",
    "    if i in list_prod_import :\n",
    "        prod_import_sousnut.append(True)\n",
    "    else :\n",
    "        prod_import_sousnut.append(False)"
   ]
  },
  {
   "cell_type": "code",
   "execution_count": 70,
   "metadata": {},
   "outputs": [],
   "source": [
    "#Ajout de la colonne booléenne prod_import_sousnut\n",
    "df113['prod_import_sousnut'] = prod_import_sousnut"
   ]
  },
  {
   "cell_type": "code",
   "execution_count": 71,
   "metadata": {},
   "outputs": [],
   "source": [
    "#Réduction sur la condition de présence des 15 produits recherchés\n",
    "df113 = df113[df113['prod_import_sousnut'] == True]"
   ]
  },
  {
   "cell_type": "code",
   "execution_count": 72,
   "metadata": {},
   "outputs": [],
   "source": [
    "#Projection sur les catégories Pays, Produit et Importations\n",
    "#Mais pour la suite de l'étude nous devons conserver un df avec une projection plus large...\n",
    "df113 = df113[['Pays', 'Produit', 'Importations - Quantité', 'Autres Utilisations', 'Disponibilité intérieure', 'Aliments pour animaux', 'Nourriture']]"
   ]
  },
  {
   "cell_type": "code",
   "execution_count": 73,
   "metadata": {},
   "outputs": [
    {
     "data": {
      "text/html": [
       "<div>\n",
       "<style scoped>\n",
       "    .dataframe tbody tr th:only-of-type {\n",
       "        vertical-align: middle;\n",
       "    }\n",
       "\n",
       "    .dataframe tbody tr th {\n",
       "        vertical-align: top;\n",
       "    }\n",
       "\n",
       "    .dataframe thead th {\n",
       "        text-align: right;\n",
       "    }\n",
       "</style>\n",
       "<table border=\"1\" class=\"dataframe\">\n",
       "  <thead>\n",
       "    <tr style=\"text-align: right;\">\n",
       "      <th>Élément</th>\n",
       "      <th>index</th>\n",
       "      <th>Pays</th>\n",
       "      <th>Produit</th>\n",
       "      <th>Importations - Quantité</th>\n",
       "    </tr>\n",
       "  </thead>\n",
       "  <tbody>\n",
       "    <tr>\n",
       "      <th>0</th>\n",
       "      <td>2509</td>\n",
       "      <td>Chine, continentale</td>\n",
       "      <td>Soja</td>\n",
       "      <td>63381.0</td>\n",
       "    </tr>\n",
       "    <tr>\n",
       "      <th>1</th>\n",
       "      <td>2496</td>\n",
       "      <td>Chine, continentale</td>\n",
       "      <td>Manioc</td>\n",
       "      <td>29046.0</td>\n",
       "    </tr>\n",
       "    <tr>\n",
       "      <th>2</th>\n",
       "      <td>6965</td>\n",
       "      <td>Japon</td>\n",
       "      <td>Maïs</td>\n",
       "      <td>14403.0</td>\n",
       "    </tr>\n",
       "    <tr>\n",
       "      <th>3</th>\n",
       "      <td>12012</td>\n",
       "      <td>Arabie saoudite</td>\n",
       "      <td>Orge</td>\n",
       "      <td>10547.0</td>\n",
       "    </tr>\n",
       "    <tr>\n",
       "      <th>4</th>\n",
       "      <td>3674</td>\n",
       "      <td>Égypte</td>\n",
       "      <td>Blé</td>\n",
       "      <td>10331.0</td>\n",
       "    </tr>\n",
       "    <tr>\n",
       "      <th>...</th>\n",
       "      <td>...</td>\n",
       "      <td>...</td>\n",
       "      <td>...</td>\n",
       "      <td>...</td>\n",
       "    </tr>\n",
       "    <tr>\n",
       "      <th>195</th>\n",
       "      <td>12195</td>\n",
       "      <td>Sénégal</td>\n",
       "      <td>Riz (Eq Blanchi)</td>\n",
       "      <td>1120.0</td>\n",
       "    </tr>\n",
       "    <tr>\n",
       "      <th>196</th>\n",
       "      <td>7509</td>\n",
       "      <td>République de Corée</td>\n",
       "      <td>Soja</td>\n",
       "      <td>1118.0</td>\n",
       "    </tr>\n",
       "    <tr>\n",
       "      <th>197</th>\n",
       "      <td>7534</td>\n",
       "      <td>République de Corée</td>\n",
       "      <td>Légumes, Autres</td>\n",
       "      <td>1105.0</td>\n",
       "    </tr>\n",
       "    <tr>\n",
       "      <th>198</th>\n",
       "      <td>6137</td>\n",
       "      <td>Indonésie</td>\n",
       "      <td>Manioc</td>\n",
       "      <td>1102.0</td>\n",
       "    </tr>\n",
       "    <tr>\n",
       "      <th>199</th>\n",
       "      <td>7240</td>\n",
       "      <td>Kenya</td>\n",
       "      <td>Blé</td>\n",
       "      <td>1092.0</td>\n",
       "    </tr>\n",
       "  </tbody>\n",
       "</table>\n",
       "<p>200 rows × 4 columns</p>\n",
       "</div>"
      ],
      "text/plain": [
       "Élément  index                 Pays           Produit  Importations - Quantité\n",
       "0        2509   Chine, continentale  Soja              63381.0                \n",
       "1        2496   Chine, continentale  Manioc            29046.0                \n",
       "2        6965   Japon                Maïs              14403.0                \n",
       "3        12012  Arabie saoudite      Orge              10547.0                \n",
       "4        3674   Égypte               Blé               10331.0                \n",
       "..        ...      ...               ...                   ...                \n",
       "195      12195  Sénégal              Riz (Eq Blanchi)  1120.0                 \n",
       "196      7509   République de Corée  Soja              1118.0                 \n",
       "197      7534   République de Corée  Légumes, Autres   1105.0                 \n",
       "198      6137   Indonésie            Manioc            1102.0                 \n",
       "199      7240   Kenya                Blé               1092.0                 \n",
       "\n",
       "[200 rows x 4 columns]"
      ]
     },
     "execution_count": 73,
     "metadata": {},
     "output_type": "execute_result"
    }
   ],
   "source": [
    "#Filtre sur les quantités importées\n",
    "#Sélection des 200 plus grandes importations sur ces produits\n",
    "df113 = df113.sort_values(by='Importations - Quantité', ascending=False)[:200]\n",
    "df1130 = df113[['Pays', 'Produit', 'Importations - Quantité']].reset_index()\n",
    "df1130"
   ]
  },
  {
   "cell_type": "markdown",
   "metadata": {},
   "source": [
    "#### 11.7 Sélection de ces importations par produit, afin d'avoir une table contenant 1 ligne pour chacun des 15 produits. "
   ]
  },
  {
   "cell_type": "code",
   "execution_count": 74,
   "metadata": {},
   "outputs": [
    {
     "data": {
      "text/html": [
       "<div>\n",
       "<style scoped>\n",
       "    .dataframe tbody tr th:only-of-type {\n",
       "        vertical-align: middle;\n",
       "    }\n",
       "\n",
       "    .dataframe tbody tr th {\n",
       "        vertical-align: top;\n",
       "    }\n",
       "\n",
       "    .dataframe thead th {\n",
       "        text-align: right;\n",
       "    }\n",
       "</style>\n",
       "<table border=\"1\" class=\"dataframe\">\n",
       "  <thead>\n",
       "    <tr style=\"text-align: right;\">\n",
       "      <th>Élément</th>\n",
       "      <th>Produit</th>\n",
       "      <th>Importations - Quantité</th>\n",
       "    </tr>\n",
       "  </thead>\n",
       "  <tbody>\n",
       "    <tr>\n",
       "      <th>0</th>\n",
       "      <td>Blé</td>\n",
       "      <td>146539.0</td>\n",
       "    </tr>\n",
       "    <tr>\n",
       "      <th>1</th>\n",
       "      <td>Fruits, Autres</td>\n",
       "      <td>15714.0</td>\n",
       "    </tr>\n",
       "    <tr>\n",
       "      <th>2</th>\n",
       "      <td>Huile de Palme</td>\n",
       "      <td>29747.0</td>\n",
       "    </tr>\n",
       "    <tr>\n",
       "      <th>3</th>\n",
       "      <td>Lait - Excl Beurre</td>\n",
       "      <td>87377.0</td>\n",
       "    </tr>\n",
       "    <tr>\n",
       "      <th>4</th>\n",
       "      <td>Légumes, Autres</td>\n",
       "      <td>27116.0</td>\n",
       "    </tr>\n",
       "    <tr>\n",
       "      <th>5</th>\n",
       "      <td>Manioc</td>\n",
       "      <td>34655.0</td>\n",
       "    </tr>\n",
       "    <tr>\n",
       "      <th>6</th>\n",
       "      <td>Maïs</td>\n",
       "      <td>101416.0</td>\n",
       "    </tr>\n",
       "    <tr>\n",
       "      <th>7</th>\n",
       "      <td>Oranges, Mandarines</td>\n",
       "      <td>22945.0</td>\n",
       "    </tr>\n",
       "    <tr>\n",
       "      <th>8</th>\n",
       "      <td>Orge</td>\n",
       "      <td>22387.0</td>\n",
       "    </tr>\n",
       "    <tr>\n",
       "      <th>9</th>\n",
       "      <td>Poissons Pelagiques</td>\n",
       "      <td>13445.0</td>\n",
       "    </tr>\n",
       "    <tr>\n",
       "      <th>10</th>\n",
       "      <td>Pommes de Terre</td>\n",
       "      <td>16895.0</td>\n",
       "    </tr>\n",
       "    <tr>\n",
       "      <th>11</th>\n",
       "      <td>Riz (Eq Blanchi)</td>\n",
       "      <td>12911.0</td>\n",
       "    </tr>\n",
       "    <tr>\n",
       "      <th>12</th>\n",
       "      <td>Soja</td>\n",
       "      <td>93455.0</td>\n",
       "    </tr>\n",
       "    <tr>\n",
       "      <th>13</th>\n",
       "      <td>Sucre Eq Brut</td>\n",
       "      <td>34208.0</td>\n",
       "    </tr>\n",
       "    <tr>\n",
       "      <th>14</th>\n",
       "      <td>Tomates</td>\n",
       "      <td>7143.0</td>\n",
       "    </tr>\n",
       "  </tbody>\n",
       "</table>\n",
       "</div>"
      ],
      "text/plain": [
       "Élément              Produit  Importations - Quantité\n",
       "0        Blé                  146539.0               \n",
       "1        Fruits, Autres       15714.0                \n",
       "2        Huile de Palme       29747.0                \n",
       "3        Lait - Excl Beurre   87377.0                \n",
       "4        Légumes, Autres      27116.0                \n",
       "5        Manioc               34655.0                \n",
       "6        Maïs                 101416.0               \n",
       "7        Oranges, Mandarines  22945.0                \n",
       "8        Orge                 22387.0                \n",
       "9        Poissons Pelagiques  13445.0                \n",
       "10       Pommes de Terre      16895.0                \n",
       "11       Riz (Eq Blanchi)     12911.0                \n",
       "12       Soja                 93455.0                \n",
       "13       Sucre Eq Brut        34208.0                \n",
       "14       Tomates              7143.0                 "
      ]
     },
     "execution_count": 74,
     "metadata": {},
     "output_type": "execute_result"
    }
   ],
   "source": [
    "#Création d'un nouveau dataframe pour conserver cette sélection\n",
    "#Projection sur les deux colonnes recherchées\n",
    "df114 = df113.groupby('Produit').sum().reset_index()\n",
    "df1140 = df114[['Produit', 'Importations - Quantité']]\n",
    "df1140"
   ]
  },
  {
   "cell_type": "markdown",
   "metadata": {},
   "source": [
    "#### 11.8 Ratio entre la quantité destinée aux \"Autres utilisations\" (Other uses) et la disponibilité intérieure."
   ]
  },
  {
   "cell_type": "code",
   "execution_count": 75,
   "metadata": {},
   "outputs": [
    {
     "data": {
      "text/html": [
       "<div>\n",
       "<style scoped>\n",
       "    .dataframe tbody tr th:only-of-type {\n",
       "        vertical-align: middle;\n",
       "    }\n",
       "\n",
       "    .dataframe tbody tr th {\n",
       "        vertical-align: top;\n",
       "    }\n",
       "\n",
       "    .dataframe thead th {\n",
       "        text-align: right;\n",
       "    }\n",
       "</style>\n",
       "<table border=\"1\" class=\"dataframe\">\n",
       "  <thead>\n",
       "    <tr style=\"text-align: right;\">\n",
       "      <th>Élément</th>\n",
       "      <th>Produit</th>\n",
       "      <th>Importations - Quantité</th>\n",
       "      <th>Ratio Autres Util/Dispo int</th>\n",
       "    </tr>\n",
       "  </thead>\n",
       "  <tbody>\n",
       "    <tr>\n",
       "      <th>2</th>\n",
       "      <td>Huile de Palme</td>\n",
       "      <td>29747.0</td>\n",
       "      <td>0.724803</td>\n",
       "    </tr>\n",
       "    <tr>\n",
       "      <th>5</th>\n",
       "      <td>Manioc</td>\n",
       "      <td>34655.0</td>\n",
       "      <td>0.302335</td>\n",
       "    </tr>\n",
       "    <tr>\n",
       "      <th>6</th>\n",
       "      <td>Maïs</td>\n",
       "      <td>101416.0</td>\n",
       "      <td>0.264426</td>\n",
       "    </tr>\n",
       "    <tr>\n",
       "      <th>10</th>\n",
       "      <td>Pommes de Terre</td>\n",
       "      <td>16895.0</td>\n",
       "      <td>0.065253</td>\n",
       "    </tr>\n",
       "    <tr>\n",
       "      <th>13</th>\n",
       "      <td>Sucre Eq Brut</td>\n",
       "      <td>34208.0</td>\n",
       "      <td>0.038188</td>\n",
       "    </tr>\n",
       "    <tr>\n",
       "      <th>3</th>\n",
       "      <td>Lait - Excl Beurre</td>\n",
       "      <td>87377.0</td>\n",
       "      <td>0.036166</td>\n",
       "    </tr>\n",
       "    <tr>\n",
       "      <th>0</th>\n",
       "      <td>Blé</td>\n",
       "      <td>146539.0</td>\n",
       "      <td>0.032140</td>\n",
       "    </tr>\n",
       "    <tr>\n",
       "      <th>11</th>\n",
       "      <td>Riz (Eq Blanchi)</td>\n",
       "      <td>12911.0</td>\n",
       "      <td>0.017190</td>\n",
       "    </tr>\n",
       "    <tr>\n",
       "      <th>12</th>\n",
       "      <td>Soja</td>\n",
       "      <td>93455.0</td>\n",
       "      <td>0.003284</td>\n",
       "    </tr>\n",
       "    <tr>\n",
       "      <th>8</th>\n",
       "      <td>Orge</td>\n",
       "      <td>22387.0</td>\n",
       "      <td>0.000407</td>\n",
       "    </tr>\n",
       "    <tr>\n",
       "      <th>7</th>\n",
       "      <td>Oranges, Mandarines</td>\n",
       "      <td>22945.0</td>\n",
       "      <td>0.000051</td>\n",
       "    </tr>\n",
       "    <tr>\n",
       "      <th>1</th>\n",
       "      <td>Fruits, Autres</td>\n",
       "      <td>15714.0</td>\n",
       "      <td>0.000000</td>\n",
       "    </tr>\n",
       "    <tr>\n",
       "      <th>4</th>\n",
       "      <td>Légumes, Autres</td>\n",
       "      <td>27116.0</td>\n",
       "      <td>0.000000</td>\n",
       "    </tr>\n",
       "    <tr>\n",
       "      <th>9</th>\n",
       "      <td>Poissons Pelagiques</td>\n",
       "      <td>13445.0</td>\n",
       "      <td>0.000000</td>\n",
       "    </tr>\n",
       "    <tr>\n",
       "      <th>14</th>\n",
       "      <td>Tomates</td>\n",
       "      <td>7143.0</td>\n",
       "      <td>0.000000</td>\n",
       "    </tr>\n",
       "  </tbody>\n",
       "</table>\n",
       "</div>"
      ],
      "text/plain": [
       "Élément              Produit  Importations - Quantité  \\\n",
       "2        Huile de Palme       29747.0                   \n",
       "5        Manioc               34655.0                   \n",
       "6        Maïs                 101416.0                  \n",
       "10       Pommes de Terre      16895.0                   \n",
       "13       Sucre Eq Brut        34208.0                   \n",
       "3        Lait - Excl Beurre   87377.0                   \n",
       "0        Blé                  146539.0                  \n",
       "11       Riz (Eq Blanchi)     12911.0                   \n",
       "12       Soja                 93455.0                   \n",
       "8        Orge                 22387.0                   \n",
       "7        Oranges, Mandarines  22945.0                   \n",
       "1        Fruits, Autres       15714.0                   \n",
       "4        Légumes, Autres      27116.0                   \n",
       "9        Poissons Pelagiques  13445.0                   \n",
       "14       Tomates              7143.0                    \n",
       "\n",
       "Élément  Ratio Autres Util/Dispo int  \n",
       "2        0.724803                     \n",
       "5        0.302335                     \n",
       "6        0.264426                     \n",
       "10       0.065253                     \n",
       "13       0.038188                     \n",
       "3        0.036166                     \n",
       "0        0.032140                     \n",
       "11       0.017190                     \n",
       "12       0.003284                     \n",
       "8        0.000407                     \n",
       "7        0.000051                     \n",
       "1        0.000000                     \n",
       "4        0.000000                     \n",
       "9        0.000000                     \n",
       "14       0.000000                     "
      ]
     },
     "execution_count": 75,
     "metadata": {},
     "output_type": "execute_result"
    }
   ],
   "source": [
    "#Création d'un dataframe rajoutant une colonne 'Ratio Autres Util/Dispo int'\n",
    "df115 = df114\n",
    "df115['Ratio Autres Util/Dispo int'] = df115['Autres Utilisations'] / df115['Disponibilité intérieure']\n",
    "df1150 = df115[['Produit', 'Importations - Quantité', 'Ratio Autres Util/Dispo int']]\n",
    "df1150 = df1150.sort_values(by='Ratio Autres Util/Dispo int', ascending=False)\n",
    "df1150"
   ]
  },
  {
   "cell_type": "markdown",
   "metadata": {},
   "source": [
    "#### 11.9 Ratio entre la quantité destinée à la nourriture animale et la quantité destinée à la nourriture (animale + humaine)"
   ]
  },
  {
   "cell_type": "code",
   "execution_count": 76,
   "metadata": {},
   "outputs": [
    {
     "data": {
      "text/html": [
       "<div>\n",
       "<style scoped>\n",
       "    .dataframe tbody tr th:only-of-type {\n",
       "        vertical-align: middle;\n",
       "    }\n",
       "\n",
       "    .dataframe tbody tr th {\n",
       "        vertical-align: top;\n",
       "    }\n",
       "\n",
       "    .dataframe thead th {\n",
       "        text-align: right;\n",
       "    }\n",
       "</style>\n",
       "<table border=\"1\" class=\"dataframe\">\n",
       "  <thead>\n",
       "    <tr style=\"text-align: right;\">\n",
       "      <th>Élément</th>\n",
       "      <th>Produit</th>\n",
       "      <th>Importations - Quantité</th>\n",
       "      <th>Ratio Nour Ani/Nour globale</th>\n",
       "    </tr>\n",
       "  </thead>\n",
       "  <tbody>\n",
       "    <tr>\n",
       "      <th>8</th>\n",
       "      <td>Orge</td>\n",
       "      <td>22387.0</td>\n",
       "      <td>59.624260</td>\n",
       "    </tr>\n",
       "    <tr>\n",
       "      <th>6</th>\n",
       "      <td>Maïs</td>\n",
       "      <td>101416.0</td>\n",
       "      <td>7.097826</td>\n",
       "    </tr>\n",
       "    <tr>\n",
       "      <th>9</th>\n",
       "      <td>Poissons Pelagiques</td>\n",
       "      <td>13445.0</td>\n",
       "      <td>3.087630</td>\n",
       "    </tr>\n",
       "    <tr>\n",
       "      <th>12</th>\n",
       "      <td>Soja</td>\n",
       "      <td>93455.0</td>\n",
       "      <td>1.825566</td>\n",
       "    </tr>\n",
       "    <tr>\n",
       "      <th>5</th>\n",
       "      <td>Manioc</td>\n",
       "      <td>34655.0</td>\n",
       "      <td>1.648358</td>\n",
       "    </tr>\n",
       "    <tr>\n",
       "      <th>0</th>\n",
       "      <td>Blé</td>\n",
       "      <td>146539.0</td>\n",
       "      <td>0.321980</td>\n",
       "    </tr>\n",
       "    <tr>\n",
       "      <th>11</th>\n",
       "      <td>Riz (Eq Blanchi)</td>\n",
       "      <td>12911.0</td>\n",
       "      <td>0.104570</td>\n",
       "    </tr>\n",
       "    <tr>\n",
       "      <th>3</th>\n",
       "      <td>Lait - Excl Beurre</td>\n",
       "      <td>87377.0</td>\n",
       "      <td>0.091055</td>\n",
       "    </tr>\n",
       "    <tr>\n",
       "      <th>10</th>\n",
       "      <td>Pommes de Terre</td>\n",
       "      <td>16895.0</td>\n",
       "      <td>0.050057</td>\n",
       "    </tr>\n",
       "    <tr>\n",
       "      <th>4</th>\n",
       "      <td>Légumes, Autres</td>\n",
       "      <td>27116.0</td>\n",
       "      <td>0.049091</td>\n",
       "    </tr>\n",
       "    <tr>\n",
       "      <th>1</th>\n",
       "      <td>Fruits, Autres</td>\n",
       "      <td>15714.0</td>\n",
       "      <td>0.000000</td>\n",
       "    </tr>\n",
       "    <tr>\n",
       "      <th>2</th>\n",
       "      <td>Huile de Palme</td>\n",
       "      <td>29747.0</td>\n",
       "      <td>0.000000</td>\n",
       "    </tr>\n",
       "    <tr>\n",
       "      <th>7</th>\n",
       "      <td>Oranges, Mandarines</td>\n",
       "      <td>22945.0</td>\n",
       "      <td>0.000000</td>\n",
       "    </tr>\n",
       "    <tr>\n",
       "      <th>13</th>\n",
       "      <td>Sucre Eq Brut</td>\n",
       "      <td>34208.0</td>\n",
       "      <td>0.000000</td>\n",
       "    </tr>\n",
       "    <tr>\n",
       "      <th>14</th>\n",
       "      <td>Tomates</td>\n",
       "      <td>7143.0</td>\n",
       "      <td>0.000000</td>\n",
       "    </tr>\n",
       "  </tbody>\n",
       "</table>\n",
       "</div>"
      ],
      "text/plain": [
       "Élément              Produit  Importations - Quantité  \\\n",
       "8        Orge                 22387.0                   \n",
       "6        Maïs                 101416.0                  \n",
       "9        Poissons Pelagiques  13445.0                   \n",
       "12       Soja                 93455.0                   \n",
       "5        Manioc               34655.0                   \n",
       "0        Blé                  146539.0                  \n",
       "11       Riz (Eq Blanchi)     12911.0                   \n",
       "3        Lait - Excl Beurre   87377.0                   \n",
       "10       Pommes de Terre      16895.0                   \n",
       "4        Légumes, Autres      27116.0                   \n",
       "1        Fruits, Autres       15714.0                   \n",
       "2        Huile de Palme       29747.0                   \n",
       "7        Oranges, Mandarines  22945.0                   \n",
       "13       Sucre Eq Brut        34208.0                   \n",
       "14       Tomates              7143.0                    \n",
       "\n",
       "Élément  Ratio Nour Ani/Nour globale  \n",
       "8        59.624260                    \n",
       "6        7.097826                     \n",
       "9        3.087630                     \n",
       "12       1.825566                     \n",
       "5        1.648358                     \n",
       "0        0.321980                     \n",
       "11       0.104570                     \n",
       "3        0.091055                     \n",
       "10       0.050057                     \n",
       "4        0.049091                     \n",
       "1        0.000000                     \n",
       "2        0.000000                     \n",
       "7        0.000000                     \n",
       "13       0.000000                     \n",
       "14       0.000000                     "
      ]
     },
     "execution_count": 76,
     "metadata": {},
     "output_type": "execute_result"
    }
   ],
   "source": [
    "#Création d'un dataframe rajoutant une colonne 'Ratio Autres Util/Dispo int'\n",
    "df116 = df114\n",
    "df116['Ratio Nour Ani/Nour globale'] = df116['Aliments pour animaux'] / df116['Nourriture']\n",
    "df1160 = df116[['Produit', 'Importations - Quantité', 'Ratio Nour Ani/Nour globale']]\n",
    "df1160 = df1160.sort_values(by='Ratio Nour Ani/Nour globale', ascending=False)\n",
    "df1160"
   ]
  },
  {
   "cell_type": "markdown",
   "metadata": {},
   "source": [
    "### 12. Identification des 3 produits qui ont la plus grande valeur pour chacun des 2 ratios "
   ]
  },
  {
   "cell_type": "markdown",
   "metadata": {},
   "source": [
    "#### 12.1 Les 3 produits dont le ratio Autres utilisations / Disponibilité intérieure ont la plus grande valeur"
   ]
  },
  {
   "cell_type": "code",
   "execution_count": 77,
   "metadata": {},
   "outputs": [
    {
     "data": {
      "text/html": [
       "<div>\n",
       "<style scoped>\n",
       "    .dataframe tbody tr th:only-of-type {\n",
       "        vertical-align: middle;\n",
       "    }\n",
       "\n",
       "    .dataframe tbody tr th {\n",
       "        vertical-align: top;\n",
       "    }\n",
       "\n",
       "    .dataframe thead th {\n",
       "        text-align: right;\n",
       "    }\n",
       "</style>\n",
       "<table border=\"1\" class=\"dataframe\">\n",
       "  <thead>\n",
       "    <tr style=\"text-align: right;\">\n",
       "      <th>Élément</th>\n",
       "      <th>Produit</th>\n",
       "      <th>Importations - Quantité</th>\n",
       "      <th>Ratio Autres Util/Dispo int</th>\n",
       "    </tr>\n",
       "  </thead>\n",
       "  <tbody>\n",
       "    <tr>\n",
       "      <th>2</th>\n",
       "      <td>Huile de Palme</td>\n",
       "      <td>29747.0</td>\n",
       "      <td>0.724803</td>\n",
       "    </tr>\n",
       "    <tr>\n",
       "      <th>5</th>\n",
       "      <td>Manioc</td>\n",
       "      <td>34655.0</td>\n",
       "      <td>0.302335</td>\n",
       "    </tr>\n",
       "    <tr>\n",
       "      <th>6</th>\n",
       "      <td>Maïs</td>\n",
       "      <td>101416.0</td>\n",
       "      <td>0.264426</td>\n",
       "    </tr>\n",
       "  </tbody>\n",
       "</table>\n",
       "</div>"
      ],
      "text/plain": [
       "Élément         Produit  Importations - Quantité  Ratio Autres Util/Dispo int\n",
       "2        Huile de Palme  29747.0                  0.724803                   \n",
       "5        Manioc          34655.0                  0.302335                   \n",
       "6        Maïs            101416.0                 0.264426                   "
      ]
     },
     "execution_count": 77,
     "metadata": {},
     "output_type": "execute_result"
    }
   ],
   "source": [
    "#Utilisation du dataframe df1150\n",
    "df1150.head(3)"
   ]
  },
  {
   "cell_type": "markdown",
   "metadata": {},
   "source": [
    "#### 12.2 Les 3 produits dont le ratio Nourriture animale / Nourriture (animale + humaine) ont la plus grande valeur"
   ]
  },
  {
   "cell_type": "code",
   "execution_count": 78,
   "metadata": {},
   "outputs": [
    {
     "data": {
      "text/html": [
       "<div>\n",
       "<style scoped>\n",
       "    .dataframe tbody tr th:only-of-type {\n",
       "        vertical-align: middle;\n",
       "    }\n",
       "\n",
       "    .dataframe tbody tr th {\n",
       "        vertical-align: top;\n",
       "    }\n",
       "\n",
       "    .dataframe thead th {\n",
       "        text-align: right;\n",
       "    }\n",
       "</style>\n",
       "<table border=\"1\" class=\"dataframe\">\n",
       "  <thead>\n",
       "    <tr style=\"text-align: right;\">\n",
       "      <th>Élément</th>\n",
       "      <th>Produit</th>\n",
       "      <th>Importations - Quantité</th>\n",
       "      <th>Ratio Nour Ani/Nour globale</th>\n",
       "    </tr>\n",
       "  </thead>\n",
       "  <tbody>\n",
       "    <tr>\n",
       "      <th>8</th>\n",
       "      <td>Orge</td>\n",
       "      <td>22387.0</td>\n",
       "      <td>59.624260</td>\n",
       "    </tr>\n",
       "    <tr>\n",
       "      <th>6</th>\n",
       "      <td>Maïs</td>\n",
       "      <td>101416.0</td>\n",
       "      <td>7.097826</td>\n",
       "    </tr>\n",
       "    <tr>\n",
       "      <th>9</th>\n",
       "      <td>Poissons Pelagiques</td>\n",
       "      <td>13445.0</td>\n",
       "      <td>3.087630</td>\n",
       "    </tr>\n",
       "  </tbody>\n",
       "</table>\n",
       "</div>"
      ],
      "text/plain": [
       "Élément              Produit  Importations - Quantité  \\\n",
       "8        Orge                 22387.0                   \n",
       "6        Maïs                 101416.0                  \n",
       "9        Poissons Pelagiques  13445.0                   \n",
       "\n",
       "Élément  Ratio Nour Ani/Nour globale  \n",
       "8        59.624260                    \n",
       "6        7.097826                     \n",
       "9        3.087630                     "
      ]
     },
     "execution_count": 78,
     "metadata": {},
     "output_type": "execute_result"
    }
   ],
   "source": [
    "#Utilisation du dataframe df1160\n",
    "df1160.head(3)"
   ]
  },
  {
   "cell_type": "markdown",
   "metadata": {},
   "source": [
    "### 13. Combien de tonnes de céréales pourraient être libérées si les USA diminuaient leur production de produits animaux de 10% ?"
   ]
  },
  {
   "cell_type": "code",
   "execution_count": 79,
   "metadata": {},
   "outputs": [
    {
     "data": {
      "text/html": [
       "<div>\n",
       "<style scoped>\n",
       "    .dataframe tbody tr th:only-of-type {\n",
       "        vertical-align: middle;\n",
       "    }\n",
       "\n",
       "    .dataframe tbody tr th {\n",
       "        vertical-align: top;\n",
       "    }\n",
       "\n",
       "    .dataframe thead th {\n",
       "        text-align: right;\n",
       "    }\n",
       "</style>\n",
       "<table border=\"1\" class=\"dataframe\">\n",
       "  <thead>\n",
       "    <tr style=\"text-align: right;\">\n",
       "      <th>Élément</th>\n",
       "      <th>Code Pays</th>\n",
       "      <th>Pays</th>\n",
       "      <th>Code Produit</th>\n",
       "      <th>Produit</th>\n",
       "      <th>Origine</th>\n",
       "      <th>Population</th>\n",
       "      <th>Année</th>\n",
       "      <th>Aliments pour animaux</th>\n",
       "      <th>Autres Utilisations</th>\n",
       "      <th>Disponibilité alimentaire (Kcal/personne/jour)</th>\n",
       "      <th>...</th>\n",
       "      <th>Nourriture</th>\n",
       "      <th>Pertes</th>\n",
       "      <th>Production</th>\n",
       "      <th>Semences</th>\n",
       "      <th>Traitement</th>\n",
       "      <th>Variation de stock</th>\n",
       "      <th>Disponibilité alimentaire (Kcal/an)</th>\n",
       "      <th>Disponibilité de protéines en quantité (Kg/an)</th>\n",
       "      <th>Disponibilité alimentaire en quantité (Kg/an)</th>\n",
       "      <th>is_cereal</th>\n",
       "    </tr>\n",
       "  </thead>\n",
       "  <tbody>\n",
       "    <tr>\n",
       "      <th>14263</th>\n",
       "      <td>231</td>\n",
       "      <td>États-Unis d'Amérique</td>\n",
       "      <td>2511</td>\n",
       "      <td>Blé</td>\n",
       "      <td>Végétale</td>\n",
       "      <td>320051</td>\n",
       "      <td>2013</td>\n",
       "      <td>6196.0</td>\n",
       "      <td>16.0</td>\n",
       "      <td>599.0</td>\n",
       "      <td>...</td>\n",
       "      <td>25742.0</td>\n",
       "      <td>NaN</td>\n",
       "      <td>57967.0</td>\n",
       "      <td>2096.0</td>\n",
       "      <td>0.0</td>\n",
       "      <td>5284.0</td>\n",
       "      <td>6.997435e+10</td>\n",
       "      <td>2.260440e+06</td>\n",
       "      <td>25741701.93</td>\n",
       "      <td>True</td>\n",
       "    </tr>\n",
       "    <tr>\n",
       "      <th>14264</th>\n",
       "      <td>231</td>\n",
       "      <td>États-Unis d'Amérique</td>\n",
       "      <td>2513</td>\n",
       "      <td>Orge</td>\n",
       "      <td>Végétale</td>\n",
       "      <td>320051</td>\n",
       "      <td>2013</td>\n",
       "      <td>1440.0</td>\n",
       "      <td>0.0</td>\n",
       "      <td>5.0</td>\n",
       "      <td>...</td>\n",
       "      <td>160.0</td>\n",
       "      <td>NaN</td>\n",
       "      <td>4683.0</td>\n",
       "      <td>107.0</td>\n",
       "      <td>3161.0</td>\n",
       "      <td>16.0</td>\n",
       "      <td>5.840931e+08</td>\n",
       "      <td>1.635461e+04</td>\n",
       "      <td>160025.50</td>\n",
       "      <td>True</td>\n",
       "    </tr>\n",
       "    <tr>\n",
       "      <th>14265</th>\n",
       "      <td>231</td>\n",
       "      <td>États-Unis d'Amérique</td>\n",
       "      <td>2514</td>\n",
       "      <td>Maïs</td>\n",
       "      <td>Végétale</td>\n",
       "      <td>320051</td>\n",
       "      <td>2013</td>\n",
       "      <td>128024.0</td>\n",
       "      <td>137023.0</td>\n",
       "      <td>92.0</td>\n",
       "      <td>...</td>\n",
       "      <td>3917.0</td>\n",
       "      <td>NaN</td>\n",
       "      <td>353699.0</td>\n",
       "      <td>582.0</td>\n",
       "      <td>23230.0</td>\n",
       "      <td>-39863.0</td>\n",
       "      <td>1.074731e+10</td>\n",
       "      <td>1.950871e+05</td>\n",
       "      <td>3917424.24</td>\n",
       "      <td>True</td>\n",
       "    </tr>\n",
       "    <tr>\n",
       "      <th>14266</th>\n",
       "      <td>231</td>\n",
       "      <td>États-Unis d'Amérique</td>\n",
       "      <td>2515</td>\n",
       "      <td>Seigle</td>\n",
       "      <td>Végétale</td>\n",
       "      <td>320051</td>\n",
       "      <td>2013</td>\n",
       "      <td>184.0</td>\n",
       "      <td>0.0</td>\n",
       "      <td>2.0</td>\n",
       "      <td>...</td>\n",
       "      <td>87.0</td>\n",
       "      <td>NaN</td>\n",
       "      <td>195.0</td>\n",
       "      <td>76.0</td>\n",
       "      <td>NaN</td>\n",
       "      <td>-76.0</td>\n",
       "      <td>2.336372e+08</td>\n",
       "      <td>8.177303e+03</td>\n",
       "      <td>86413.77</td>\n",
       "      <td>True</td>\n",
       "    </tr>\n",
       "    <tr>\n",
       "      <th>14267</th>\n",
       "      <td>231</td>\n",
       "      <td>États-Unis d'Amérique</td>\n",
       "      <td>2516</td>\n",
       "      <td>Avoine</td>\n",
       "      <td>Végétale</td>\n",
       "      <td>320051</td>\n",
       "      <td>2013</td>\n",
       "      <td>1430.0</td>\n",
       "      <td>NaN</td>\n",
       "      <td>19.0</td>\n",
       "      <td>...</td>\n",
       "      <td>1265.0</td>\n",
       "      <td>NaN</td>\n",
       "      <td>1016.0</td>\n",
       "      <td>103.0</td>\n",
       "      <td>NaN</td>\n",
       "      <td>32.0</td>\n",
       "      <td>2.219554e+09</td>\n",
       "      <td>9.228671e+04</td>\n",
       "      <td>1264201.45</td>\n",
       "      <td>True</td>\n",
       "    </tr>\n",
       "    <tr>\n",
       "      <th>14268</th>\n",
       "      <td>231</td>\n",
       "      <td>États-Unis d'Amérique</td>\n",
       "      <td>2517</td>\n",
       "      <td>Millet</td>\n",
       "      <td>Végétale</td>\n",
       "      <td>320051</td>\n",
       "      <td>2013</td>\n",
       "      <td>394.0</td>\n",
       "      <td>NaN</td>\n",
       "      <td>NaN</td>\n",
       "      <td>...</td>\n",
       "      <td>NaN</td>\n",
       "      <td>22.0</td>\n",
       "      <td>418.0</td>\n",
       "      <td>NaN</td>\n",
       "      <td>NaN</td>\n",
       "      <td>NaN</td>\n",
       "      <td>NaN</td>\n",
       "      <td>NaN</td>\n",
       "      <td>NaN</td>\n",
       "      <td>True</td>\n",
       "    </tr>\n",
       "    <tr>\n",
       "      <th>14269</th>\n",
       "      <td>231</td>\n",
       "      <td>États-Unis d'Amérique</td>\n",
       "      <td>2518</td>\n",
       "      <td>Sorgho</td>\n",
       "      <td>Végétale</td>\n",
       "      <td>320051</td>\n",
       "      <td>2013</td>\n",
       "      <td>2351.0</td>\n",
       "      <td>NaN</td>\n",
       "      <td>7.0</td>\n",
       "      <td>...</td>\n",
       "      <td>236.0</td>\n",
       "      <td>NaN</td>\n",
       "      <td>9882.0</td>\n",
       "      <td>22.0</td>\n",
       "      <td>1753.0</td>\n",
       "      <td>-3220.0</td>\n",
       "      <td>8.177303e+08</td>\n",
       "      <td>2.336372e+04</td>\n",
       "      <td>236837.74</td>\n",
       "      <td>True</td>\n",
       "    </tr>\n",
       "    <tr>\n",
       "      <th>14270</th>\n",
       "      <td>231</td>\n",
       "      <td>États-Unis d'Amérique</td>\n",
       "      <td>2520</td>\n",
       "      <td>Céréales, Autres</td>\n",
       "      <td>Végétale</td>\n",
       "      <td>320051</td>\n",
       "      <td>2013</td>\n",
       "      <td>77.0</td>\n",
       "      <td>NaN</td>\n",
       "      <td>5.0</td>\n",
       "      <td>...</td>\n",
       "      <td>200.0</td>\n",
       "      <td>NaN</td>\n",
       "      <td>81.0</td>\n",
       "      <td>3.0</td>\n",
       "      <td>NaN</td>\n",
       "      <td>0.0</td>\n",
       "      <td>5.840931e+08</td>\n",
       "      <td>1.752279e+04</td>\n",
       "      <td>198431.62</td>\n",
       "      <td>True</td>\n",
       "    </tr>\n",
       "    <tr>\n",
       "      <th>14355</th>\n",
       "      <td>231</td>\n",
       "      <td>États-Unis d'Amérique</td>\n",
       "      <td>2805</td>\n",
       "      <td>Riz (Eq Blanchi)</td>\n",
       "      <td>Végétale</td>\n",
       "      <td>320051</td>\n",
       "      <td>2013</td>\n",
       "      <td>NaN</td>\n",
       "      <td>142.0</td>\n",
       "      <td>72.0</td>\n",
       "      <td>...</td>\n",
       "      <td>2203.0</td>\n",
       "      <td>200.0</td>\n",
       "      <td>5745.0</td>\n",
       "      <td>109.0</td>\n",
       "      <td>464.0</td>\n",
       "      <td>-27.0</td>\n",
       "      <td>8.410940e+09</td>\n",
       "      <td>1.553688e+05</td>\n",
       "      <td>2201950.88</td>\n",
       "      <td>True</td>\n",
       "    </tr>\n",
       "  </tbody>\n",
       "</table>\n",
       "<p>9 rows × 26 columns</p>\n",
       "</div>"
      ],
      "text/plain": [
       "Élément  Code Pays                   Pays  Code Produit           Produit  \\\n",
       "14263    231        États-Unis d'Amérique  2511          Blé                \n",
       "14264    231        États-Unis d'Amérique  2513          Orge               \n",
       "14265    231        États-Unis d'Amérique  2514          Maïs               \n",
       "14266    231        États-Unis d'Amérique  2515          Seigle             \n",
       "14267    231        États-Unis d'Amérique  2516          Avoine             \n",
       "14268    231        États-Unis d'Amérique  2517          Millet             \n",
       "14269    231        États-Unis d'Amérique  2518          Sorgho             \n",
       "14270    231        États-Unis d'Amérique  2520          Céréales, Autres   \n",
       "14355    231        États-Unis d'Amérique  2805          Riz (Eq Blanchi)   \n",
       "\n",
       "Élément   Origine  Population  Année  Aliments pour animaux  \\\n",
       "14263    Végétale  320051      2013   6196.0                  \n",
       "14264    Végétale  320051      2013   1440.0                  \n",
       "14265    Végétale  320051      2013   128024.0                \n",
       "14266    Végétale  320051      2013   184.0                   \n",
       "14267    Végétale  320051      2013   1430.0                  \n",
       "14268    Végétale  320051      2013   394.0                   \n",
       "14269    Végétale  320051      2013   2351.0                  \n",
       "14270    Végétale  320051      2013   77.0                    \n",
       "14355    Végétale  320051      2013  NaN                      \n",
       "\n",
       "Élément  Autres Utilisations  Disponibilité alimentaire (Kcal/personne/jour)  \\\n",
       "14263    16.0                 599.0                                            \n",
       "14264    0.0                  5.0                                              \n",
       "14265    137023.0             92.0                                             \n",
       "14266    0.0                  2.0                                              \n",
       "14267   NaN                   19.0                                             \n",
       "14268   NaN                  NaN                                               \n",
       "14269   NaN                   7.0                                              \n",
       "14270   NaN                   5.0                                              \n",
       "14355    142.0                72.0                                             \n",
       "\n",
       "Élément  ...  Nourriture  Pertes  Production  Semences  Traitement  \\\n",
       "14263    ...  25742.0    NaN      57967.0     2096.0    0.0          \n",
       "14264    ...  160.0      NaN      4683.0      107.0     3161.0       \n",
       "14265    ...  3917.0     NaN      353699.0    582.0     23230.0      \n",
       "14266    ...  87.0       NaN      195.0       76.0     NaN           \n",
       "14267    ...  1265.0     NaN      1016.0      103.0    NaN           \n",
       "14268    ... NaN          22.0    418.0      NaN       NaN           \n",
       "14269    ...  236.0      NaN      9882.0      22.0      1753.0       \n",
       "14270    ...  200.0      NaN      81.0        3.0      NaN           \n",
       "14355    ...  2203.0      200.0   5745.0      109.0     464.0        \n",
       "\n",
       "Élément  Variation de stock  Disponibilité alimentaire (Kcal/an)  \\\n",
       "14263    5284.0              6.997435e+10                          \n",
       "14264    16.0                5.840931e+08                          \n",
       "14265   -39863.0             1.074731e+10                          \n",
       "14266   -76.0                2.336372e+08                          \n",
       "14267    32.0                2.219554e+09                          \n",
       "14268   NaN                 NaN                                    \n",
       "14269   -3220.0              8.177303e+08                          \n",
       "14270    0.0                 5.840931e+08                          \n",
       "14355   -27.0                8.410940e+09                          \n",
       "\n",
       "Élément  Disponibilité de protéines en quantité (Kg/an)  \\\n",
       "14263    2.260440e+06                                     \n",
       "14264    1.635461e+04                                     \n",
       "14265    1.950871e+05                                     \n",
       "14266    8.177303e+03                                     \n",
       "14267    9.228671e+04                                     \n",
       "14268   NaN                                               \n",
       "14269    2.336372e+04                                     \n",
       "14270    1.752279e+04                                     \n",
       "14355    1.553688e+05                                     \n",
       "\n",
       "Élément  Disponibilité alimentaire en quantité (Kg/an)  is_cereal  \n",
       "14263    25741701.93                                    True       \n",
       "14264    160025.50                                      True       \n",
       "14265    3917424.24                                     True       \n",
       "14266    86413.77                                       True       \n",
       "14267    1264201.45                                     True       \n",
       "14268   NaN                                             True       \n",
       "14269    236837.74                                      True       \n",
       "14270    198431.62                                      True       \n",
       "14355    2201950.88                                     True       \n",
       "\n",
       "[9 rows x 26 columns]"
      ]
     },
     "execution_count": 79,
     "metadata": {},
     "output_type": "execute_result"
    }
   ],
   "source": [
    "#Création d'un dataframe à partir du df100\n",
    "#Double restriction sur la présence de Céréales et le pays USA\n",
    "df1000 = df100\n",
    "df1000 = df1000[(df1000['is_cereal'] == True) & (df1000[\"Pays\"] == \"États-Unis d'Amérique\")]\n",
    "df1000"
   ]
  },
  {
   "cell_type": "code",
   "execution_count": 80,
   "metadata": {},
   "outputs": [
    {
     "data": {
      "text/plain": [
       "14009600000.0"
      ]
     },
     "execution_count": 80,
     "metadata": {},
     "output_type": "execute_result"
    }
   ],
   "source": [
    "#Estimation du total de céréales destiné à l'alimentation animale\n",
    "#Conversion des valeurs en tonnes (au lieu de milliers de tonnes)\n",
    "prod_cer = (df1000['Aliments pour animaux'] * 1000000).sum()\n",
    "\n",
    "#10% de la production\n",
    "prod_cer * .10"
   ]
  },
  {
   "cell_type": "markdown",
   "metadata": {},
   "source": [
    "*Plus de 14 Milliards de tonnes de Céréales pourraient être disponibles*"
   ]
  },
  {
   "cell_type": "markdown",
   "metadata": {},
   "source": [
    "### 14. Proportion du Manioc en Thaïlande exportée dans le Monde et proportion de personnes en sous-nutrition"
   ]
  },
  {
   "cell_type": "markdown",
   "metadata": {},
   "source": [
    "#### 14.1 Proportion du Manioc en Thaïlande exportée dans le Monde"
   ]
  },
  {
   "cell_type": "code",
   "execution_count": 81,
   "metadata": {},
   "outputs": [
    {
     "data": {
      "text/html": [
       "<div>\n",
       "<style scoped>\n",
       "    .dataframe tbody tr th:only-of-type {\n",
       "        vertical-align: middle;\n",
       "    }\n",
       "\n",
       "    .dataframe tbody tr th {\n",
       "        vertical-align: top;\n",
       "    }\n",
       "\n",
       "    .dataframe thead th {\n",
       "        text-align: right;\n",
       "    }\n",
       "</style>\n",
       "<table border=\"1\" class=\"dataframe\">\n",
       "  <thead>\n",
       "    <tr style=\"text-align: right;\">\n",
       "      <th>Élément</th>\n",
       "      <th>Pays</th>\n",
       "      <th>Produit</th>\n",
       "      <th>Exportations - Quantité</th>\n",
       "    </tr>\n",
       "  </thead>\n",
       "  <tbody>\n",
       "    <tr>\n",
       "      <th>13344</th>\n",
       "      <td>Thaïlande</td>\n",
       "      <td>Manioc</td>\n",
       "      <td>25214.0</td>\n",
       "    </tr>\n",
       "  </tbody>\n",
       "</table>\n",
       "</div>"
      ],
      "text/plain": [
       "Élément       Pays Produit  Exportations - Quantité\n",
       "13344    Thaïlande  Manioc  25214.0                "
      ]
     },
     "execution_count": 81,
     "metadata": {},
     "output_type": "execute_result"
    }
   ],
   "source": [
    "#Création d'un dataframe (df_thai_manioc) à partir des bilans alimentaires du dataframe df1\n",
    "#Restriction suivant le Pays Thaïlande et le produit Manioc\n",
    "df_thai_manioc = df1[(df1['Pays'] == 'Thaïlande') & (df1['Produit'] == 'Manioc')]\n",
    "df_thai_manioc = df_thai_manioc[['Pays', 'Produit', 'Exportations - Quantité']]\n",
    "df_thai_manioc"
   ]
  },
  {
   "cell_type": "code",
   "execution_count": 82,
   "metadata": {},
   "outputs": [
    {
     "data": {
      "text/plain": [
       "25214000000"
      ]
     },
     "execution_count": 82,
     "metadata": {},
     "output_type": "execute_result"
    }
   ],
   "source": [
    "#Les valeurs \"Exportations - Quantité\" sont exprimées en Milliers de tonnes\n",
    "#Conversion en tonnes\n",
    "export_manioc_thai = 25214 * 1000000\n",
    "export_manioc_thai"
   ]
  },
  {
   "cell_type": "markdown",
   "metadata": {},
   "source": [
    "*25 Milliards de tonnes de Manioc exportées par la Thaïlande*"
   ]
  },
  {
   "cell_type": "markdown",
   "metadata": {},
   "source": [
    "#### 14.2 Proportion des exportations du Manioc par la Thaïlande / aux exportations mondiales du Manioc"
   ]
  },
  {
   "cell_type": "code",
   "execution_count": 83,
   "metadata": {},
   "outputs": [
    {
     "data": {
      "text/plain": [
       "36052000000.0"
      ]
     },
     "execution_count": 83,
     "metadata": {},
     "output_type": "execute_result"
    }
   ],
   "source": [
    "#Création d'une variable propre au cumul des exportations de Manioc dans le Monde\n",
    "export_manioc = df1['Exportations - Quantité'][df1['Produit'] == 'Manioc'].sum()\n",
    "export_manioc = export_manioc * 1000000\n",
    "export_manioc"
   ]
  },
  {
   "cell_type": "markdown",
   "metadata": {},
   "source": [
    "*36 Milliards de tonnes de Manioc exportées dans le monde*"
   ]
  },
  {
   "cell_type": "markdown",
   "metadata": {},
   "source": [
    "*>>> En conclusion plus de 69% du Manioc exportés dans le monde provient de Thaïlande*"
   ]
  },
  {
   "cell_type": "markdown",
   "metadata": {},
   "source": [
    "#### 14.3 Pays exportateurs de Manioc dans le monde sur l'année 2013"
   ]
  },
  {
   "cell_type": "code",
   "execution_count": 84,
   "metadata": {},
   "outputs": [
    {
     "data": {
      "text/html": [
       "<div>\n",
       "<style scoped>\n",
       "    .dataframe tbody tr th:only-of-type {\n",
       "        vertical-align: middle;\n",
       "    }\n",
       "\n",
       "    .dataframe tbody tr th {\n",
       "        vertical-align: top;\n",
       "    }\n",
       "\n",
       "    .dataframe thead th {\n",
       "        text-align: right;\n",
       "    }\n",
       "</style>\n",
       "<table border=\"1\" class=\"dataframe\">\n",
       "  <thead>\n",
       "    <tr style=\"text-align: right;\">\n",
       "      <th>Élément</th>\n",
       "      <th>Pays</th>\n",
       "      <th>Exportations - Quantité</th>\n",
       "    </tr>\n",
       "  </thead>\n",
       "  <tbody>\n",
       "    <tr>\n",
       "      <th>13344</th>\n",
       "      <td>Thaïlande</td>\n",
       "      <td>25214.0</td>\n",
       "    </tr>\n",
       "    <tr>\n",
       "      <th>14724</th>\n",
       "      <td>Viet Nam</td>\n",
       "      <td>8973.0</td>\n",
       "    </tr>\n",
       "    <tr>\n",
       "      <th>6137</th>\n",
       "      <td>Indonésie</td>\n",
       "      <td>820.0</td>\n",
       "    </tr>\n",
       "    <tr>\n",
       "      <th>7345</th>\n",
       "      <td>Cambodge</td>\n",
       "      <td>254.0</td>\n",
       "    </tr>\n",
       "    <tr>\n",
       "      <th>10719</th>\n",
       "      <td>Paraguay</td>\n",
       "      <td>164.0</td>\n",
       "    </tr>\n",
       "    <tr>\n",
       "      <th>2777</th>\n",
       "      <td>Costa Rica</td>\n",
       "      <td>123.0</td>\n",
       "    </tr>\n",
       "    <tr>\n",
       "      <th>13154</th>\n",
       "      <td>Chine, Taiwan Province de</td>\n",
       "      <td>82.0</td>\n",
       "    </tr>\n",
       "    <tr>\n",
       "      <th>5669</th>\n",
       "      <td>Chine - RAS de Hong-Kong</td>\n",
       "      <td>80.0</td>\n",
       "    </tr>\n",
       "    <tr>\n",
       "      <th>13991</th>\n",
       "      <td>Ouganda</td>\n",
       "      <td>47.0</td>\n",
       "    </tr>\n",
       "    <tr>\n",
       "      <th>2496</th>\n",
       "      <td>Chine, continentale</td>\n",
       "      <td>41.0</td>\n",
       "    </tr>\n",
       "    <tr>\n",
       "      <th>1342</th>\n",
       "      <td>Brésil</td>\n",
       "      <td>38.0</td>\n",
       "    </tr>\n",
       "    <tr>\n",
       "      <th>9613</th>\n",
       "      <td>Pays-Bas</td>\n",
       "      <td>38.0</td>\n",
       "    </tr>\n",
       "    <tr>\n",
       "      <th>6040</th>\n",
       "      <td>Inde</td>\n",
       "      <td>21.0</td>\n",
       "    </tr>\n",
       "    <tr>\n",
       "      <th>10065</th>\n",
       "      <td>Nicaragua</td>\n",
       "      <td>16.0</td>\n",
       "    </tr>\n",
       "    <tr>\n",
       "      <th>4685</th>\n",
       "      <td>Allemagne</td>\n",
       "      <td>14.0</td>\n",
       "    </tr>\n",
       "    <tr>\n",
       "      <th>2235</th>\n",
       "      <td>Sri Lanka</td>\n",
       "      <td>12.0</td>\n",
       "    </tr>\n",
       "    <tr>\n",
       "      <th>10251</th>\n",
       "      <td>Nigéria</td>\n",
       "      <td>11.0</td>\n",
       "    </tr>\n",
       "    <tr>\n",
       "      <th>4871</th>\n",
       "      <td>Ghana</td>\n",
       "      <td>9.0</td>\n",
       "    </tr>\n",
       "    <tr>\n",
       "      <th>14272</th>\n",
       "      <td>États-Unis d'Amérique</td>\n",
       "      <td>9.0</td>\n",
       "    </tr>\n",
       "    <tr>\n",
       "      <th>13248</th>\n",
       "      <td>République-Unie de Tanzanie</td>\n",
       "      <td>9.0</td>\n",
       "    </tr>\n",
       "    <tr>\n",
       "      <th>3588</th>\n",
       "      <td>Équateur</td>\n",
       "      <td>8.0</td>\n",
       "    </tr>\n",
       "    <tr>\n",
       "      <th>10811</th>\n",
       "      <td>Pérou</td>\n",
       "      <td>7.0</td>\n",
       "    </tr>\n",
       "    <tr>\n",
       "      <th>3966</th>\n",
       "      <td>Fidji</td>\n",
       "      <td>7.0</td>\n",
       "    </tr>\n",
       "    <tr>\n",
       "      <th>15161</th>\n",
       "      <td>Belgique</td>\n",
       "      <td>6.0</td>\n",
       "    </tr>\n",
       "    <tr>\n",
       "      <th>8974</th>\n",
       "      <td>Mexique</td>\n",
       "      <td>5.0</td>\n",
       "    </tr>\n",
       "    <tr>\n",
       "      <th>14086</th>\n",
       "      <td>Royaume-Uni</td>\n",
       "      <td>5.0</td>\n",
       "    </tr>\n",
       "    <tr>\n",
       "      <th>10906</th>\n",
       "      <td>Philippines</td>\n",
       "      <td>4.0</td>\n",
       "    </tr>\n",
       "    <tr>\n",
       "      <th>11095</th>\n",
       "      <td>Portugal</td>\n",
       "      <td>4.0</td>\n",
       "    </tr>\n",
       "    <tr>\n",
       "      <th>11509</th>\n",
       "      <td>Rwanda</td>\n",
       "      <td>4.0</td>\n",
       "    </tr>\n",
       "    <tr>\n",
       "      <th>8427</th>\n",
       "      <td>Malaisie</td>\n",
       "      <td>4.0</td>\n",
       "    </tr>\n",
       "    <tr>\n",
       "      <th>6596</th>\n",
       "      <td>Italie</td>\n",
       "      <td>3.0</td>\n",
       "    </tr>\n",
       "    <tr>\n",
       "      <th>3683</th>\n",
       "      <td>Égypte</td>\n",
       "      <td>3.0</td>\n",
       "    </tr>\n",
       "    <tr>\n",
       "      <th>4153</th>\n",
       "      <td>France</td>\n",
       "      <td>2.0</td>\n",
       "    </tr>\n",
       "    <tr>\n",
       "      <th>2592</th>\n",
       "      <td>Colombie</td>\n",
       "      <td>2.0</td>\n",
       "    </tr>\n",
       "    <tr>\n",
       "      <th>3149</th>\n",
       "      <td>Bénin</td>\n",
       "      <td>2.0</td>\n",
       "    </tr>\n",
       "    <tr>\n",
       "      <th>5574</th>\n",
       "      <td>Honduras</td>\n",
       "      <td>2.0</td>\n",
       "    </tr>\n",
       "    <tr>\n",
       "      <th>12476</th>\n",
       "      <td>Afrique du Sud</td>\n",
       "      <td>2.0</td>\n",
       "    </tr>\n",
       "    <tr>\n",
       "      <th>12571</th>\n",
       "      <td>Espagne</td>\n",
       "      <td>1.0</td>\n",
       "    </tr>\n",
       "    <tr>\n",
       "      <th>13899</th>\n",
       "      <td>Émirats arabes unis</td>\n",
       "      <td>1.0</td>\n",
       "    </tr>\n",
       "    <tr>\n",
       "      <th>5765</th>\n",
       "      <td>Hongrie</td>\n",
       "      <td>1.0</td>\n",
       "    </tr>\n",
       "    <tr>\n",
       "      <th>10530</th>\n",
       "      <td>Panama</td>\n",
       "      <td>1.0</td>\n",
       "    </tr>\n",
       "    <tr>\n",
       "      <th>1878</th>\n",
       "      <td>Cameroun</td>\n",
       "      <td>1.0</td>\n",
       "    </tr>\n",
       "    <tr>\n",
       "      <th>15068</th>\n",
       "      <td>Zambie</td>\n",
       "      <td>1.0</td>\n",
       "    </tr>\n",
       "    <tr>\n",
       "      <th>1605</th>\n",
       "      <td>Brunéi Darussalam</td>\n",
       "      <td>1.0</td>\n",
       "    </tr>\n",
       "  </tbody>\n",
       "</table>\n",
       "</div>"
      ],
      "text/plain": [
       "Élément                         Pays  Exportations - Quantité\n",
       "13344    Thaïlande                    25214.0                \n",
       "14724    Viet Nam                     8973.0                 \n",
       "6137     Indonésie                    820.0                  \n",
       "7345     Cambodge                     254.0                  \n",
       "10719    Paraguay                     164.0                  \n",
       "2777     Costa Rica                   123.0                  \n",
       "13154    Chine, Taiwan Province de    82.0                   \n",
       "5669     Chine - RAS de Hong-Kong     80.0                   \n",
       "13991    Ouganda                      47.0                   \n",
       "2496     Chine, continentale          41.0                   \n",
       "1342     Brésil                       38.0                   \n",
       "9613     Pays-Bas                     38.0                   \n",
       "6040     Inde                         21.0                   \n",
       "10065    Nicaragua                    16.0                   \n",
       "4685     Allemagne                    14.0                   \n",
       "2235     Sri Lanka                    12.0                   \n",
       "10251    Nigéria                      11.0                   \n",
       "4871     Ghana                        9.0                    \n",
       "14272    États-Unis d'Amérique        9.0                    \n",
       "13248    République-Unie de Tanzanie  9.0                    \n",
       "3588     Équateur                     8.0                    \n",
       "10811    Pérou                        7.0                    \n",
       "3966     Fidji                        7.0                    \n",
       "15161    Belgique                     6.0                    \n",
       "8974     Mexique                      5.0                    \n",
       "14086    Royaume-Uni                  5.0                    \n",
       "10906    Philippines                  4.0                    \n",
       "11095    Portugal                     4.0                    \n",
       "11509    Rwanda                       4.0                    \n",
       "8427     Malaisie                     4.0                    \n",
       "6596     Italie                       3.0                    \n",
       "3683     Égypte                       3.0                    \n",
       "4153     France                       2.0                    \n",
       "2592     Colombie                     2.0                    \n",
       "3149     Bénin                        2.0                    \n",
       "5574     Honduras                     2.0                    \n",
       "12476    Afrique du Sud               2.0                    \n",
       "12571    Espagne                      1.0                    \n",
       "13899    Émirats arabes unis          1.0                    \n",
       "5765     Hongrie                      1.0                    \n",
       "10530    Panama                       1.0                    \n",
       "1878     Cameroun                     1.0                    \n",
       "15068    Zambie                       1.0                    \n",
       "1605     Brunéi Darussalam            1.0                    "
      ]
     },
     "execution_count": 84,
     "metadata": {},
     "output_type": "execute_result"
    }
   ],
   "source": [
    "#Création d'un dataframe (df_pays_manioc) pour identifier et quantifier ces pays\n",
    "df_pays_manioc = (df1[(df1['Produit'] == 'Manioc') & (df1['Exportations - Quantité'] != 0)])\n",
    "df_pays_manioc = df_pays_manioc.dropna(subset=['Exportations - Quantité'])\n",
    "df_pays_manioc = df_pays_manioc[['Pays', 'Exportations - Quantité']].sort_values(by='Exportations - Quantité', ascending=False)\n",
    "df_pays_manioc"
   ]
  },
  {
   "cell_type": "code",
   "execution_count": 85,
   "metadata": {},
   "outputs": [
    {
     "data": {
      "text/plain": [
       "44"
      ]
     },
     "execution_count": 85,
     "metadata": {},
     "output_type": "execute_result"
    }
   ],
   "source": [
    "df_pays_manioc['Pays'].nunique()"
   ]
  },
  {
   "cell_type": "markdown",
   "metadata": {},
   "source": [
    "*44 Pays exportent le Manioc* \n",
    "\n",
    "*Les 3 pays qui exportent le plus le Manioc sont la Thaïlande, le Viet Nam et l'Indonésie.*"
   ]
  },
  {
   "cell_type": "markdown",
   "metadata": {},
   "source": [
    "#### 14.4 Proportion des personnes en Thaïlande rencensées comme étant en sous-nutrition"
   ]
  },
  {
   "cell_type": "code",
   "execution_count": 86,
   "metadata": {},
   "outputs": [],
   "source": [
    "#Années 2012/2013/2014 Nombre de personnes sous-alimentées (millions) (moyenne sur 3 ans)"
   ]
  },
  {
   "cell_type": "code",
   "execution_count": 87,
   "metadata": {},
   "outputs": [
    {
     "data": {
      "text/html": [
       "<div>\n",
       "<style scoped>\n",
       "    .dataframe tbody tr th:only-of-type {\n",
       "        vertical-align: middle;\n",
       "    }\n",
       "\n",
       "    .dataframe tbody tr th {\n",
       "        vertical-align: top;\n",
       "    }\n",
       "\n",
       "    .dataframe thead th {\n",
       "        text-align: right;\n",
       "    }\n",
       "</style>\n",
       "<table border=\"1\" class=\"dataframe\">\n",
       "  <thead>\n",
       "    <tr style=\"text-align: right;\">\n",
       "      <th></th>\n",
       "      <th>Zone</th>\n",
       "      <th>Unité</th>\n",
       "      <th>Valeur</th>\n",
       "    </tr>\n",
       "  </thead>\n",
       "  <tbody>\n",
       "    <tr>\n",
       "      <th>930</th>\n",
       "      <td>Thaïlande</td>\n",
       "      <td>millions</td>\n",
       "      <td>5.6</td>\n",
       "    </tr>\n",
       "  </tbody>\n",
       "</table>\n",
       "</div>"
      ],
      "text/plain": [
       "          Zone     Unité  Valeur\n",
       "930  Thaïlande  millions  5.6   "
      ]
     },
     "execution_count": 87,
     "metadata": {},
     "output_type": "execute_result"
    }
   ],
   "source": [
    "#Projection et restriction à partir du dataframe (df_sousnut) extrait des données de sécurité alimentaire de la FAO\n",
    "df_sousnut[['Zone', 'Unité', 'Valeur']][(df_sousnut['Zone'] == 'Thaïlande') & (df_sousnut['Code année'] == 20122014)]"
   ]
  },
  {
   "cell_type": "markdown",
   "metadata": {},
   "source": [
    "*5,6 Millions de personnes en Thaïlande recensées en état de sous-nutrition entre 2012 et 2014*"
   ]
  },
  {
   "cell_type": "code",
   "execution_count": 88,
   "metadata": {},
   "outputs": [],
   "source": [
    "#Années 2016/2017/2018 Nombre de personnes sous-alimentées (millions) (moyenne sur 3 ans)"
   ]
  },
  {
   "cell_type": "code",
   "execution_count": 89,
   "metadata": {},
   "outputs": [
    {
     "data": {
      "text/html": [
       "<div>\n",
       "<style scoped>\n",
       "    .dataframe tbody tr th:only-of-type {\n",
       "        vertical-align: middle;\n",
       "    }\n",
       "\n",
       "    .dataframe tbody tr th {\n",
       "        vertical-align: top;\n",
       "    }\n",
       "\n",
       "    .dataframe thead th {\n",
       "        text-align: right;\n",
       "    }\n",
       "</style>\n",
       "<table border=\"1\" class=\"dataframe\">\n",
       "  <thead>\n",
       "    <tr style=\"text-align: right;\">\n",
       "      <th></th>\n",
       "      <th>Zone</th>\n",
       "      <th>Unité</th>\n",
       "      <th>Valeur</th>\n",
       "    </tr>\n",
       "  </thead>\n",
       "  <tbody>\n",
       "    <tr>\n",
       "      <th>934</th>\n",
       "      <td>Thaïlande</td>\n",
       "      <td>millions</td>\n",
       "      <td>5.4</td>\n",
       "    </tr>\n",
       "  </tbody>\n",
       "</table>\n",
       "</div>"
      ],
      "text/plain": [
       "          Zone     Unité  Valeur\n",
       "934  Thaïlande  millions  5.4   "
      ]
     },
     "execution_count": 89,
     "metadata": {},
     "output_type": "execute_result"
    }
   ],
   "source": [
    "#Projection et restriction à partir du dataframe (df_sousnut) extrait des données de sécurité alimentaire de la FAO\n",
    "df_sousnut[['Zone', 'Unité', 'Valeur']][(df_sousnut['Zone'] == 'Thaïlande') & (df_sousnut['Code année'] == 20162018)]"
   ]
  },
  {
   "cell_type": "markdown",
   "metadata": {},
   "source": [
    "*5,4 Millions de personnes en Thaïlande recensées en état de sous-nutrition entre 2016 et 2018*"
   ]
  },
  {
   "cell_type": "code",
   "execution_count": 99,
   "metadata": {},
   "outputs": [],
   "source": [
    "#La population de la Thaïlande en 2013 est estimée à 67 Millions de personnes (visible sur df1)"
   ]
  },
  {
   "cell_type": "markdown",
   "metadata": {},
   "source": [
    "*8,3% de la population en Thaïlande sur 2013 est considérée comme étant en sous-nutrition*"
   ]
  },
  {
   "cell_type": "markdown",
   "metadata": {},
   "source": [
    "---"
   ]
  },
  {
   "cell_type": "markdown",
   "metadata": {},
   "source": [
    "[Retour vers la page notebook précédente](https://github.com/nalron/project_public_health_study/blob/french_version/p3_notebook01.ipynb)"
   ]
  },
  {
   "cell_type": "markdown",
   "metadata": {},
   "source": [
    "[Ou suite du projet vers l'intégration des données dans une base de données relationnelle via le langage SQL](https://github.com/nalron/project_public_health_study/blob/french_version/p3_notebook03.ipynb)"
   ]
  }
 ],
 "metadata": {
  "kernelspec": {
   "display_name": "Python 3",
   "language": "python",
   "name": "python3"
  },
  "language_info": {
   "codemirror_mode": {
    "name": "ipython",
    "version": 3
   },
   "file_extension": ".py",
   "mimetype": "text/x-python",
   "name": "python",
   "nbconvert_exporter": "python",
   "pygments_lexer": "ipython3",
   "version": "3.7.5"
  }
 },
 "nbformat": 4,
 "nbformat_minor": 2
}
